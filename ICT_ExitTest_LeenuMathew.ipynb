{
  "nbformat": 4,
  "nbformat_minor": 0,
  "metadata": {
    "colab": {
      "name": "ICT_ExitTest_LeenuMathew.ipynb",
      "provenance": []
    },
    "kernelspec": {
      "name": "python3",
      "display_name": "Python 3"
    },
    "language_info": {
      "name": "python"
    }
  },
  "cells": [
    {
      "cell_type": "markdown",
      "source": [
        "# Vehicle Choice Prediction."
      ],
      "metadata": {
        "id": "lwGLd1ImlGa7"
      }
    },
    {
      "cell_type": "markdown",
      "source": [
        "**Problem Overview:**\n",
        "\n",
        "> XYZ Motor Manufactures has collected some data samples from their existing custumers to determine what kind of cars are being purchased by what kind of demogrraphic.\n",
        "\n"
      ],
      "metadata": {
        "id": "pkOzybVzlQAY"
      }
    },
    {
      "cell_type": "markdown",
      "source": [
        "**Task:**\n",
        "\n",
        "> To predict the Choice of Vehicle by building a Machine Learning Model.\n",
        "\n"
      ],
      "metadata": {
        "id": "Juoj8TCAluqE"
      }
    },
    {
      "cell_type": "markdown",
      "source": [
        "#Importing the required libraries."
      ],
      "metadata": {
        "id": "tSOGGH-pmwpE"
      }
    },
    {
      "cell_type": "code",
      "source": [
        "import numpy as np\n",
        "import pandas as pd\n",
        "import matplotlib.pyplot as plt\n",
        "import seaborn as sns\n",
        "from sklearn.preprocessing import normalize\n",
        "from sklearn.preprocessing import LabelEncoder\n",
        "from sklearn.model_selection import train_test_split\n",
        "from sklearn.ensemble import RandomForestClassifier\n",
        "from sklearn.metrics import r2_score,classification_report,confusion_matrix,accuracy_score,precision_score, recall_score,f1_score"
      ],
      "metadata": {
        "id": "RNocVkHvm1xP"
      },
      "execution_count": 79,
      "outputs": []
    },
    {
      "cell_type": "markdown",
      "source": [
        "#Loading the dataset"
      ],
      "metadata": {
        "id": "TcK3fW-Ll77X"
      }
    },
    {
      "cell_type": "code",
      "execution_count": 80,
      "metadata": {
        "id": "jlJPBKNXkxil"
      },
      "outputs": [],
      "source": [
        "train_data = pd.read_csv('/content/train.csv')\n",
        "test_data = pd.read_csv('/content/test.csv')"
      ]
    },
    {
      "cell_type": "code",
      "source": [
        "train_data.shape"
      ],
      "metadata": {
        "colab": {
          "base_uri": "https://localhost:8080/"
        },
        "id": "4NlX44YsnQk4",
        "outputId": "8411a1cf-2e3b-4f3a-bf5e-fcc0c8388bfd"
      },
      "execution_count": 81,
      "outputs": [
        {
          "output_type": "execute_result",
          "data": {
            "text/plain": [
              "(30000, 13)"
            ]
          },
          "metadata": {},
          "execution_count": 81
        }
      ]
    },
    {
      "cell_type": "code",
      "source": [
        "test_data.shape"
      ],
      "metadata": {
        "colab": {
          "base_uri": "https://localhost:8080/"
        },
        "id": "arPCh6kLnQcj",
        "outputId": "710f0575-001d-477c-ab61-a341477f5648"
      },
      "execution_count": 82,
      "outputs": [
        {
          "output_type": "execute_result",
          "data": {
            "text/plain": [
              "(5000, 12)"
            ]
          },
          "metadata": {},
          "execution_count": 82
        }
      ]
    },
    {
      "cell_type": "code",
      "source": [
        "train_data.head()"
      ],
      "metadata": {
        "colab": {
          "base_uri": "https://localhost:8080/",
          "height": 322
        },
        "id": "P2brWvCrnKmX",
        "outputId": "1c4b92fd-685f-4c1d-a3bf-36d3144b1e1b"
      },
      "execution_count": 83,
      "outputs": [
        {
          "output_type": "execute_result",
          "data": {
            "text/plain": [
              "    CustomerID   Age         Gender           City is_Married  family_size  \\\n",
              "0  CusID_00000  36.0           Male  New York City   Divorced          2.0   \n",
              "1  CusID_00001  15.0         Female  New York City     Single          1.0   \n",
              "2  CusID_00002  55.0           Male          Paris    Married          2.0   \n",
              "3  CusID_00003  23.0           Male      Vancouver   Divorced          3.0   \n",
              "4  CusID_00004  23.0  Not_Specified      Vancouver     Single          1.0   \n",
              "\n",
              "   height  annual_income       job is_physically_ok has_taken_car_loan  \\\n",
              "0   160.0        32200.0   Service              Yes                Yes   \n",
              "1   143.0         9000.0   Service              Yes                Yes   \n",
              "2   168.0       152400.0   Service              Yes                 No   \n",
              "3   165.0       141140.0  Business              Yes                 No   \n",
              "4   147.0        38100.0   Service              Yes                Yes   \n",
              "\n",
              "  preferable_fuel_choice           vehicle_choice  \n",
              "0                 Hybrid                    Sedan  \n",
              "1                 Petrol  Compact Utility Vehicle  \n",
              "2                 Petrol             Sports Sedan  \n",
              "3                 Diesel                Sportscar  \n",
              "4                 Hybrid   Sports Utility Vehicle  "
            ],
            "text/html": [
              "\n",
              "  <div id=\"df-01b1615d-cf1a-4edb-91fa-a0f8056f661d\">\n",
              "    <div class=\"colab-df-container\">\n",
              "      <div>\n",
              "<style scoped>\n",
              "    .dataframe tbody tr th:only-of-type {\n",
              "        vertical-align: middle;\n",
              "    }\n",
              "\n",
              "    .dataframe tbody tr th {\n",
              "        vertical-align: top;\n",
              "    }\n",
              "\n",
              "    .dataframe thead th {\n",
              "        text-align: right;\n",
              "    }\n",
              "</style>\n",
              "<table border=\"1\" class=\"dataframe\">\n",
              "  <thead>\n",
              "    <tr style=\"text-align: right;\">\n",
              "      <th></th>\n",
              "      <th>CustomerID</th>\n",
              "      <th>Age</th>\n",
              "      <th>Gender</th>\n",
              "      <th>City</th>\n",
              "      <th>is_Married</th>\n",
              "      <th>family_size</th>\n",
              "      <th>height</th>\n",
              "      <th>annual_income</th>\n",
              "      <th>job</th>\n",
              "      <th>is_physically_ok</th>\n",
              "      <th>has_taken_car_loan</th>\n",
              "      <th>preferable_fuel_choice</th>\n",
              "      <th>vehicle_choice</th>\n",
              "    </tr>\n",
              "  </thead>\n",
              "  <tbody>\n",
              "    <tr>\n",
              "      <th>0</th>\n",
              "      <td>CusID_00000</td>\n",
              "      <td>36.0</td>\n",
              "      <td>Male</td>\n",
              "      <td>New York City</td>\n",
              "      <td>Divorced</td>\n",
              "      <td>2.0</td>\n",
              "      <td>160.0</td>\n",
              "      <td>32200.0</td>\n",
              "      <td>Service</td>\n",
              "      <td>Yes</td>\n",
              "      <td>Yes</td>\n",
              "      <td>Hybrid</td>\n",
              "      <td>Sedan</td>\n",
              "    </tr>\n",
              "    <tr>\n",
              "      <th>1</th>\n",
              "      <td>CusID_00001</td>\n",
              "      <td>15.0</td>\n",
              "      <td>Female</td>\n",
              "      <td>New York City</td>\n",
              "      <td>Single</td>\n",
              "      <td>1.0</td>\n",
              "      <td>143.0</td>\n",
              "      <td>9000.0</td>\n",
              "      <td>Service</td>\n",
              "      <td>Yes</td>\n",
              "      <td>Yes</td>\n",
              "      <td>Petrol</td>\n",
              "      <td>Compact Utility Vehicle</td>\n",
              "    </tr>\n",
              "    <tr>\n",
              "      <th>2</th>\n",
              "      <td>CusID_00002</td>\n",
              "      <td>55.0</td>\n",
              "      <td>Male</td>\n",
              "      <td>Paris</td>\n",
              "      <td>Married</td>\n",
              "      <td>2.0</td>\n",
              "      <td>168.0</td>\n",
              "      <td>152400.0</td>\n",
              "      <td>Service</td>\n",
              "      <td>Yes</td>\n",
              "      <td>No</td>\n",
              "      <td>Petrol</td>\n",
              "      <td>Sports Sedan</td>\n",
              "    </tr>\n",
              "    <tr>\n",
              "      <th>3</th>\n",
              "      <td>CusID_00003</td>\n",
              "      <td>23.0</td>\n",
              "      <td>Male</td>\n",
              "      <td>Vancouver</td>\n",
              "      <td>Divorced</td>\n",
              "      <td>3.0</td>\n",
              "      <td>165.0</td>\n",
              "      <td>141140.0</td>\n",
              "      <td>Business</td>\n",
              "      <td>Yes</td>\n",
              "      <td>No</td>\n",
              "      <td>Diesel</td>\n",
              "      <td>Sportscar</td>\n",
              "    </tr>\n",
              "    <tr>\n",
              "      <th>4</th>\n",
              "      <td>CusID_00004</td>\n",
              "      <td>23.0</td>\n",
              "      <td>Not_Specified</td>\n",
              "      <td>Vancouver</td>\n",
              "      <td>Single</td>\n",
              "      <td>1.0</td>\n",
              "      <td>147.0</td>\n",
              "      <td>38100.0</td>\n",
              "      <td>Service</td>\n",
              "      <td>Yes</td>\n",
              "      <td>Yes</td>\n",
              "      <td>Hybrid</td>\n",
              "      <td>Sports Utility Vehicle</td>\n",
              "    </tr>\n",
              "  </tbody>\n",
              "</table>\n",
              "</div>\n",
              "      <button class=\"colab-df-convert\" onclick=\"convertToInteractive('df-01b1615d-cf1a-4edb-91fa-a0f8056f661d')\"\n",
              "              title=\"Convert this dataframe to an interactive table.\"\n",
              "              style=\"display:none;\">\n",
              "        \n",
              "  <svg xmlns=\"http://www.w3.org/2000/svg\" height=\"24px\"viewBox=\"0 0 24 24\"\n",
              "       width=\"24px\">\n",
              "    <path d=\"M0 0h24v24H0V0z\" fill=\"none\"/>\n",
              "    <path d=\"M18.56 5.44l.94 2.06.94-2.06 2.06-.94-2.06-.94-.94-2.06-.94 2.06-2.06.94zm-11 1L8.5 8.5l.94-2.06 2.06-.94-2.06-.94L8.5 2.5l-.94 2.06-2.06.94zm10 10l.94 2.06.94-2.06 2.06-.94-2.06-.94-.94-2.06-.94 2.06-2.06.94z\"/><path d=\"M17.41 7.96l-1.37-1.37c-.4-.4-.92-.59-1.43-.59-.52 0-1.04.2-1.43.59L10.3 9.45l-7.72 7.72c-.78.78-.78 2.05 0 2.83L4 21.41c.39.39.9.59 1.41.59.51 0 1.02-.2 1.41-.59l7.78-7.78 2.81-2.81c.8-.78.8-2.07 0-2.86zM5.41 20L4 18.59l7.72-7.72 1.47 1.35L5.41 20z\"/>\n",
              "  </svg>\n",
              "      </button>\n",
              "      \n",
              "  <style>\n",
              "    .colab-df-container {\n",
              "      display:flex;\n",
              "      flex-wrap:wrap;\n",
              "      gap: 12px;\n",
              "    }\n",
              "\n",
              "    .colab-df-convert {\n",
              "      background-color: #E8F0FE;\n",
              "      border: none;\n",
              "      border-radius: 50%;\n",
              "      cursor: pointer;\n",
              "      display: none;\n",
              "      fill: #1967D2;\n",
              "      height: 32px;\n",
              "      padding: 0 0 0 0;\n",
              "      width: 32px;\n",
              "    }\n",
              "\n",
              "    .colab-df-convert:hover {\n",
              "      background-color: #E2EBFA;\n",
              "      box-shadow: 0px 1px 2px rgba(60, 64, 67, 0.3), 0px 1px 3px 1px rgba(60, 64, 67, 0.15);\n",
              "      fill: #174EA6;\n",
              "    }\n",
              "\n",
              "    [theme=dark] .colab-df-convert {\n",
              "      background-color: #3B4455;\n",
              "      fill: #D2E3FC;\n",
              "    }\n",
              "\n",
              "    [theme=dark] .colab-df-convert:hover {\n",
              "      background-color: #434B5C;\n",
              "      box-shadow: 0px 1px 3px 1px rgba(0, 0, 0, 0.15);\n",
              "      filter: drop-shadow(0px 1px 2px rgba(0, 0, 0, 0.3));\n",
              "      fill: #FFFFFF;\n",
              "    }\n",
              "  </style>\n",
              "\n",
              "      <script>\n",
              "        const buttonEl =\n",
              "          document.querySelector('#df-01b1615d-cf1a-4edb-91fa-a0f8056f661d button.colab-df-convert');\n",
              "        buttonEl.style.display =\n",
              "          google.colab.kernel.accessAllowed ? 'block' : 'none';\n",
              "\n",
              "        async function convertToInteractive(key) {\n",
              "          const element = document.querySelector('#df-01b1615d-cf1a-4edb-91fa-a0f8056f661d');\n",
              "          const dataTable =\n",
              "            await google.colab.kernel.invokeFunction('convertToInteractive',\n",
              "                                                     [key], {});\n",
              "          if (!dataTable) return;\n",
              "\n",
              "          const docLinkHtml = 'Like what you see? Visit the ' +\n",
              "            '<a target=\"_blank\" href=https://colab.research.google.com/notebooks/data_table.ipynb>data table notebook</a>'\n",
              "            + ' to learn more about interactive tables.';\n",
              "          element.innerHTML = '';\n",
              "          dataTable['output_type'] = 'display_data';\n",
              "          await google.colab.output.renderOutput(dataTable, element);\n",
              "          const docLink = document.createElement('div');\n",
              "          docLink.innerHTML = docLinkHtml;\n",
              "          element.appendChild(docLink);\n",
              "        }\n",
              "      </script>\n",
              "    </div>\n",
              "  </div>\n",
              "  "
            ]
          },
          "metadata": {},
          "execution_count": 83
        }
      ]
    },
    {
      "cell_type": "markdown",
      "source": [
        "#Data Preprocessing"
      ],
      "metadata": {
        "id": "PSbeEEeIn2Ms"
      }
    },
    {
      "cell_type": "markdown",
      "source": [
        "**Basic information of the data using the info() function.**"
      ],
      "metadata": {
        "id": "Kd1NOLycoISP"
      }
    },
    {
      "cell_type": "code",
      "source": [
        "train_data.info()"
      ],
      "metadata": {
        "colab": {
          "base_uri": "https://localhost:8080/"
        },
        "id": "mR2E3AXXoQpn",
        "outputId": "e683d690-4d0d-45c7-eb82-0a80015ac872"
      },
      "execution_count": 84,
      "outputs": [
        {
          "output_type": "stream",
          "name": "stdout",
          "text": [
            "<class 'pandas.core.frame.DataFrame'>\n",
            "RangeIndex: 30000 entries, 0 to 29999\n",
            "Data columns (total 13 columns):\n",
            " #   Column                  Non-Null Count  Dtype  \n",
            "---  ------                  --------------  -----  \n",
            " 0   CustomerID              30000 non-null  object \n",
            " 1   Age                     29561 non-null  float64\n",
            " 2   Gender                  29583 non-null  object \n",
            " 3   City                    29577 non-null  object \n",
            " 4   is_Married              29580 non-null  object \n",
            " 5   family_size             29586 non-null  float64\n",
            " 6   height                  29569 non-null  float64\n",
            " 7   annual_income           29581 non-null  float64\n",
            " 8   job                     29572 non-null  object \n",
            " 9   is_physically_ok        29578 non-null  object \n",
            " 10  has_taken_car_loan      29569 non-null  object \n",
            " 11  preferable_fuel_choice  29572 non-null  object \n",
            " 12  vehicle_choice          30000 non-null  object \n",
            "dtypes: float64(4), object(9)\n",
            "memory usage: 3.0+ MB\n"
          ]
        }
      ]
    },
    {
      "cell_type": "markdown",
      "source": [
        "null values in the dataset need to treated."
      ],
      "metadata": {
        "id": "-QZxUwgxohJV"
      }
    },
    {
      "cell_type": "markdown",
      "source": [
        "**The unique values and its count of each column.**"
      ],
      "metadata": {
        "id": "X4WAI5qan-Wz"
      }
    },
    {
      "cell_type": "code",
      "source": [
        "for i in train_data.columns:\n",
        "  print(train_data[i].value_counts())\n",
        "  print('---------------------------------------------')"
      ],
      "metadata": {
        "colab": {
          "base_uri": "https://localhost:8080/"
        },
        "id": "kx4AuIIjnOFu",
        "outputId": "bc694b61-278a-4a88-aec1-075294ccf9a4"
      },
      "execution_count": 85,
      "outputs": [
        {
          "output_type": "stream",
          "name": "stdout",
          "text": [
            "CusID_00000    1\n",
            "CusID_19996    1\n",
            "CusID_20008    1\n",
            "CusID_20007    1\n",
            "CusID_20006    1\n",
            "              ..\n",
            "CusID_09995    1\n",
            "CusID_09994    1\n",
            "CusID_09993    1\n",
            "CusID_09992    1\n",
            "CusID_29999    1\n",
            "Name: CustomerID, Length: 30000, dtype: int64\n",
            "---------------------------------------------\n",
            "31.0    1301\n",
            "27.0    1276\n",
            "22.0    1266\n",
            "33.0    1253\n",
            "23.0    1237\n",
            "20.0    1232\n",
            "32.0    1228\n",
            "28.0    1220\n",
            "35.0    1217\n",
            "34.0    1214\n",
            "30.0    1211\n",
            "24.0    1207\n",
            "26.0    1182\n",
            "21.0    1171\n",
            "29.0    1166\n",
            "25.0    1151\n",
            "38.0     768\n",
            "37.0     730\n",
            "36.0     723\n",
            "39.0     718\n",
            "15.0     513\n",
            "17.0     510\n",
            "19.0     498\n",
            "18.0     479\n",
            "16.0     439\n",
            "45.0     307\n",
            "49.0     281\n",
            "40.0     273\n",
            "41.0     270\n",
            "48.0     267\n",
            "46.0     267\n",
            "50.0     264\n",
            "42.0     261\n",
            "43.0     257\n",
            "44.0     255\n",
            "47.0     253\n",
            "54.0     181\n",
            "55.0     178\n",
            "57.0     176\n",
            "51.0     174\n",
            "52.0     172\n",
            "60.0     170\n",
            "59.0     166\n",
            "56.0     166\n",
            "53.0     163\n",
            "58.0     150\n",
            "Name: Age, dtype: int64\n",
            "---------------------------------------------\n",
            "Female           12588\n",
            "Male             12316\n",
            "Not_Specified     4675\n",
            "ZH#C@                1\n",
            "VG?H%                1\n",
            "SA#?I                1\n",
            "TD%Q@                1\n",
            "Name: Gender, dtype: int64\n",
            "---------------------------------------------\n",
            "Barcelona        1456\n",
            "San Francisco    1396\n",
            "Los Angeles      1384\n",
            "Budapest         1382\n",
            "Kolkata          1379\n",
            "New York City    1369\n",
            "Berlin           1355\n",
            "Taipei           1350\n",
            "Kuala Lampur     1347\n",
            "Vienna           1346\n",
            "Munich           1344\n",
            "Florence         1341\n",
            "Toronto          1324\n",
            "Paris            1321\n",
            "Delhi            1319\n",
            "Sydney           1316\n",
            "Chennai          1315\n",
            "Mumbai           1308\n",
            "Perth            1308\n",
            "London           1307\n",
            "Vancouver        1307\n",
            "Shinjuku         1299\n",
            "#VPI@               1\n",
            "#B?TL               1\n",
            "#XY@G               1\n",
            "P?IX@               1\n",
            "Name: City, dtype: int64\n",
            "---------------------------------------------\n",
            "Married     13465\n",
            "Single       8528\n",
            "Divorced     7582\n",
            "T@JF%           1\n",
            "ORV@#           1\n",
            "?D@NF           1\n",
            "S#TF%           1\n",
            "@XTZ?           1\n",
            "Name: is_Married, dtype: int64\n",
            "---------------------------------------------\n",
            "1.0    8541\n",
            "4.0    5264\n",
            "3.0    5217\n",
            "2.0    5216\n",
            "6.0    2676\n",
            "5.0    2672\n",
            "Name: family_size, dtype: int64\n",
            "---------------------------------------------\n",
            "160.0    983\n",
            "156.0    971\n",
            "145.0    967\n",
            "149.0    963\n",
            "154.0    957\n",
            "141.0    956\n",
            "147.0    948\n",
            "142.0    943\n",
            "148.0    941\n",
            "152.0    941\n",
            "144.0    935\n",
            "146.0    931\n",
            "150.0    929\n",
            "159.0    925\n",
            "158.0    923\n",
            "157.0    919\n",
            "140.0    913\n",
            "155.0    913\n",
            "143.0    910\n",
            "153.0    902\n",
            "151.0    884\n",
            "161.0    713\n",
            "162.0    693\n",
            "139.0    692\n",
            "163.0    678\n",
            "138.0    641\n",
            "137.0    624\n",
            "135.0    452\n",
            "136.0    441\n",
            "165.0    312\n",
            "167.0    303\n",
            "168.0    300\n",
            "172.0    296\n",
            "175.0    285\n",
            "173.0    284\n",
            "178.0    284\n",
            "176.0    281\n",
            "171.0    280\n",
            "177.0    277\n",
            "164.0    275\n",
            "166.0    274\n",
            "170.0    273\n",
            "179.0    268\n",
            "180.0    262\n",
            "174.0    260\n",
            "169.0    256\n",
            "130.0     47\n",
            "133.0     45\n",
            "134.0     43\n",
            "132.0     39\n",
            "131.0     37\n",
            "Name: height, dtype: int64\n",
            "---------------------------------------------\n",
            "7700.0      72\n",
            "5700.0      72\n",
            "5300.0      71\n",
            "5000.0      70\n",
            "2400.0      70\n",
            "            ..\n",
            "45380.0      1\n",
            "55990.0      1\n",
            "299200.0     1\n",
            "65990.0      1\n",
            "54380.0      1\n",
            "Name: annual_income, Length: 10023, dtype: int64\n",
            "---------------------------------------------\n",
            "Business       14218\n",
            "Service        11918\n",
            "Student         2870\n",
            "Undisclosed      562\n",
            "KBN?#              1\n",
            "UZT?@              1\n",
            "Z@B%L              1\n",
            "TV%?N              1\n",
            "Name: job, dtype: int64\n",
            "---------------------------------------------\n",
            "Yes      28295\n",
            "No        1281\n",
            "Y%?UH        1\n",
            "UY%X@        1\n",
            "Name: is_physically_ok, dtype: int64\n",
            "---------------------------------------------\n",
            "No       15444\n",
            "Yes      14122\n",
            "@W%GO        1\n",
            "?N%IY        1\n",
            "AF?V%        1\n",
            "Name: has_taken_car_loan, dtype: int64\n",
            "---------------------------------------------\n",
            "Petrol    12180\n",
            "Diesel    11187\n",
            "Hybrid     5107\n",
            "EV         1095\n",
            "SVY@#         1\n",
            "IX%K#         1\n",
            "#%KXJ         1\n",
            "Name: preferable_fuel_choice, dtype: int64\n",
            "---------------------------------------------\n",
            "Sports Utility Vehicle     3718\n",
            "Compact Utility Vehicle    3137\n",
            "Luxury Sedan               2887\n",
            "Crossover                  2640\n",
            "Sports Sedan               2317\n",
            "Utility Vehicle            2309\n",
            "Sedan                      2210\n",
            "Hatchback                  1853\n",
            "Compact Sedan              1629\n",
            "Pickup-Truck               1566\n",
            "Luxury Coupe               1097\n",
            "Sportscar                  1011\n",
            "Convertible                 949\n",
            "Station Wagon               911\n",
            "Coupe                       549\n",
            "Sports Coupe                549\n",
            "Utility vehicle             340\n",
            "Minivan                     328\n",
            "Name: vehicle_choice, dtype: int64\n",
            "---------------------------------------------\n"
          ]
        }
      ]
    },
    {
      "cell_type": "markdown",
      "source": [
        "Several invalid entries can be observed in many columns."
      ],
      "metadata": {
        "id": "vIdAflOUp7I-"
      }
    },
    {
      "cell_type": "markdown",
      "source": [
        "**Replacing invalid entries of 'Gender' with NaN.**"
      ],
      "metadata": {
        "id": "Rw9S1tm2wTBk"
      }
    },
    {
      "cell_type": "code",
      "source": [
        "train_data.Gender.unique()"
      ],
      "metadata": {
        "colab": {
          "base_uri": "https://localhost:8080/"
        },
        "id": "pLp05libtfVQ",
        "outputId": "4017a2b2-531b-4322-853a-2a5063695f40"
      },
      "execution_count": 86,
      "outputs": [
        {
          "output_type": "execute_result",
          "data": {
            "text/plain": [
              "array(['Male', 'Female', 'Not_Specified', nan, 'ZH#C@', 'VG?H%', 'SA#?I',\n",
              "       'TD%Q@'], dtype=object)"
            ]
          },
          "metadata": {},
          "execution_count": 86
        }
      ]
    },
    {
      "cell_type": "code",
      "source": [
        "train_data.Gender.isna().sum()"
      ],
      "metadata": {
        "colab": {
          "base_uri": "https://localhost:8080/"
        },
        "id": "YBoUTFfEvxCB",
        "outputId": "bc1dff4c-2e83-4900-f8e6-d113e804910f"
      },
      "execution_count": 87,
      "outputs": [
        {
          "output_type": "execute_result",
          "data": {
            "text/plain": [
              "417"
            ]
          },
          "metadata": {},
          "execution_count": 87
        }
      ]
    },
    {
      "cell_type": "code",
      "source": [
        "train_data['Gender']=train_data.Gender.replace({'ZH#C@', 'VG?H%', 'SA#?I', 'TD%Q@'}, np.NaN)\n",
        "train_data.Gender.unique()"
      ],
      "metadata": {
        "colab": {
          "base_uri": "https://localhost:8080/"
        },
        "id": "nZQkQkRYqrzt",
        "outputId": "92ee1009-c447-46a8-90bb-6954f75add22"
      },
      "execution_count": 88,
      "outputs": [
        {
          "output_type": "execute_result",
          "data": {
            "text/plain": [
              "array(['Male', 'Female', 'Not_Specified', nan], dtype=object)"
            ]
          },
          "metadata": {},
          "execution_count": 88
        }
      ]
    },
    {
      "cell_type": "code",
      "source": [
        "train_data.Gender.isna().sum()"
      ],
      "metadata": {
        "colab": {
          "base_uri": "https://localhost:8080/"
        },
        "id": "WDDxwqZiwH8g",
        "outputId": "fa0955c6-ca01-418e-c26f-5288fd8243be"
      },
      "execution_count": 89,
      "outputs": [
        {
          "output_type": "execute_result",
          "data": {
            "text/plain": [
              "421"
            ]
          },
          "metadata": {},
          "execution_count": 89
        }
      ]
    },
    {
      "cell_type": "markdown",
      "source": [
        "**Replacing invalid entries of 'City' with NaN.**"
      ],
      "metadata": {
        "id": "FH5xUy7Iwe1X"
      }
    },
    {
      "cell_type": "code",
      "source": [
        "train_data.City.unique()"
      ],
      "metadata": {
        "colab": {
          "base_uri": "https://localhost:8080/"
        },
        "id": "3cdZKm5wuZ5u",
        "outputId": "a0b5cd03-554c-42ec-9b4f-4b38ea6fbcbe"
      },
      "execution_count": 90,
      "outputs": [
        {
          "output_type": "execute_result",
          "data": {
            "text/plain": [
              "array(['New York City', 'Paris', 'Vancouver', 'Barcelona', 'Los Angeles',\n",
              "       'Toronto', 'Munich', 'Chennai', 'Florence', 'Budapest', 'Kolkata',\n",
              "       'San Francisco', 'London', 'Mumbai', 'Taipei', 'Kuala Lampur',\n",
              "       'Shinjuku', 'Perth', 'Sydney', 'Berlin', 'Vienna', 'Delhi', nan,\n",
              "       '#VPI@', '#B?TL', '#XY@G', 'P?IX@'], dtype=object)"
            ]
          },
          "metadata": {},
          "execution_count": 90
        }
      ]
    },
    {
      "cell_type": "code",
      "source": [
        "train_data['City']=train_data.City.replace({'#VPI@', '#B?TL', '#XY@G', 'P?IX@'}, np.NaN)\n",
        "train_data.City.unique()"
      ],
      "metadata": {
        "colab": {
          "base_uri": "https://localhost:8080/"
        },
        "id": "kJ-0H4XxtrBZ",
        "outputId": "c418d2d4-9d0a-442b-c96c-d2cfce84a584"
      },
      "execution_count": 91,
      "outputs": [
        {
          "output_type": "execute_result",
          "data": {
            "text/plain": [
              "array(['New York City', 'Paris', 'Vancouver', 'Barcelona', 'Los Angeles',\n",
              "       'Toronto', 'Munich', 'Chennai', 'Florence', 'Budapest', 'Kolkata',\n",
              "       'San Francisco', 'London', 'Mumbai', 'Taipei', 'Kuala Lampur',\n",
              "       'Shinjuku', 'Perth', 'Sydney', 'Berlin', 'Vienna', 'Delhi', nan],\n",
              "      dtype=object)"
            ]
          },
          "metadata": {},
          "execution_count": 91
        }
      ]
    },
    {
      "cell_type": "markdown",
      "source": [
        "**Replacing invalid entries of 'is_Married' with NaN.**"
      ],
      "metadata": {
        "id": "GhCwUTBPwnKl"
      }
    },
    {
      "cell_type": "code",
      "source": [
        "train_data.is_Married.unique()"
      ],
      "metadata": {
        "colab": {
          "base_uri": "https://localhost:8080/"
        },
        "id": "bpD9iOnBvb1g",
        "outputId": "db31c22d-40e3-45d3-e3fb-df1242ea1fda"
      },
      "execution_count": 92,
      "outputs": [
        {
          "output_type": "execute_result",
          "data": {
            "text/plain": [
              "array(['Divorced', 'Single', 'Married', nan, 'T@JF%', 'ORV@#', '?D@NF',\n",
              "       'S#TF%', '@XTZ?'], dtype=object)"
            ]
          },
          "metadata": {},
          "execution_count": 92
        }
      ]
    },
    {
      "cell_type": "code",
      "source": [
        "train_data['is_Married']=train_data.is_Married.replace({'T@JF%', 'ORV@#', '?D@NF', 'S#TF%', '@XTZ?'}, np.NaN)\n",
        "train_data.is_Married.unique()"
      ],
      "metadata": {
        "colab": {
          "base_uri": "https://localhost:8080/"
        },
        "id": "SexGfB6AwwwF",
        "outputId": "d9c07e23-4e7c-4d2c-c272-bc5da270c5a7"
      },
      "execution_count": 93,
      "outputs": [
        {
          "output_type": "execute_result",
          "data": {
            "text/plain": [
              "array(['Divorced', 'Single', 'Married', nan], dtype=object)"
            ]
          },
          "metadata": {},
          "execution_count": 93
        }
      ]
    },
    {
      "cell_type": "markdown",
      "source": [
        "**Replacing invalid entries of 'job' with NaN.**"
      ],
      "metadata": {
        "id": "3UMpJGCIxT8_"
      }
    },
    {
      "cell_type": "code",
      "source": [
        "train_data.job.unique()"
      ],
      "metadata": {
        "colab": {
          "base_uri": "https://localhost:8080/"
        },
        "id": "yWEMEdG_xIyF",
        "outputId": "92864804-a748-4205-bd55-68422003a51c"
      },
      "execution_count": 94,
      "outputs": [
        {
          "output_type": "execute_result",
          "data": {
            "text/plain": [
              "array(['Service', 'Business', 'Student', nan, 'Undisclosed', 'KBN?#',\n",
              "       'UZT?@', 'Z@B%L', 'TV%?N'], dtype=object)"
            ]
          },
          "metadata": {},
          "execution_count": 94
        }
      ]
    },
    {
      "cell_type": "code",
      "source": [
        "train_data['job']=train_data.job.replace({'KBN?#', 'UZT?@', 'Z@B%L', 'TV%?N'}, np.NaN)\n",
        "train_data.job.unique()"
      ],
      "metadata": {
        "colab": {
          "base_uri": "https://localhost:8080/"
        },
        "id": "1dU8nOgpxYPD",
        "outputId": "74a388a1-b48f-4603-da25-d6fb1bcdd417"
      },
      "execution_count": 95,
      "outputs": [
        {
          "output_type": "execute_result",
          "data": {
            "text/plain": [
              "array(['Service', 'Business', 'Student', nan, 'Undisclosed'], dtype=object)"
            ]
          },
          "metadata": {},
          "execution_count": 95
        }
      ]
    },
    {
      "cell_type": "markdown",
      "source": [
        "**Replacing invalid entries of 'is_physically_ok' with NaN.**"
      ],
      "metadata": {
        "id": "dM4Im4AFxp58"
      }
    },
    {
      "cell_type": "code",
      "source": [
        "train_data.is_physically_ok.unique()"
      ],
      "metadata": {
        "colab": {
          "base_uri": "https://localhost:8080/"
        },
        "id": "jRUsPEHUxjhA",
        "outputId": "94366d37-169b-4c53-a497-52a6bd653732"
      },
      "execution_count": 96,
      "outputs": [
        {
          "output_type": "execute_result",
          "data": {
            "text/plain": [
              "array(['Yes', 'No', nan, 'Y%?UH', 'UY%X@'], dtype=object)"
            ]
          },
          "metadata": {},
          "execution_count": 96
        }
      ]
    },
    {
      "cell_type": "code",
      "source": [
        "train_data['is_physically_ok']=train_data.is_physically_ok.replace({'Y%?UH', 'UY%X@'}, np.NaN)\n",
        "train_data.is_physically_ok.unique()"
      ],
      "metadata": {
        "colab": {
          "base_uri": "https://localhost:8080/"
        },
        "id": "V8URt52Lxx3K",
        "outputId": "376d49a8-4d64-4599-f603-9c5fa0155244"
      },
      "execution_count": 97,
      "outputs": [
        {
          "output_type": "execute_result",
          "data": {
            "text/plain": [
              "array(['Yes', 'No', nan], dtype=object)"
            ]
          },
          "metadata": {},
          "execution_count": 97
        }
      ]
    },
    {
      "cell_type": "markdown",
      "source": [
        "**Replacing invalid entries of 'has_taken_car_loan' with NaN.**\n",
        "\n"
      ],
      "metadata": {
        "id": "KT0hlLbuyADZ"
      }
    },
    {
      "cell_type": "code",
      "source": [
        "train_data.has_taken_car_loan.unique()"
      ],
      "metadata": {
        "colab": {
          "base_uri": "https://localhost:8080/"
        },
        "id": "etF79VWtyF4f",
        "outputId": "08a8b617-3dfe-4966-8ee3-a6385e1de5d2"
      },
      "execution_count": 98,
      "outputs": [
        {
          "output_type": "execute_result",
          "data": {
            "text/plain": [
              "array(['Yes', 'No', nan, '@W%GO', '?N%IY', 'AF?V%'], dtype=object)"
            ]
          },
          "metadata": {},
          "execution_count": 98
        }
      ]
    },
    {
      "cell_type": "code",
      "source": [
        "train_data['has_taken_car_loan']=train_data.has_taken_car_loan.replace({'@W%GO', '?N%IY', 'AF?V%'}, np.NaN)\n",
        "train_data.has_taken_car_loan.unique()"
      ],
      "metadata": {
        "colab": {
          "base_uri": "https://localhost:8080/"
        },
        "id": "f8JX9ef9yKQn",
        "outputId": "a321f6a7-ff63-4b93-e35a-41085349d581"
      },
      "execution_count": 99,
      "outputs": [
        {
          "output_type": "execute_result",
          "data": {
            "text/plain": [
              "array(['Yes', 'No', nan], dtype=object)"
            ]
          },
          "metadata": {},
          "execution_count": 99
        }
      ]
    },
    {
      "cell_type": "markdown",
      "source": [
        "**Replacing invalid entries of 'preferable_fuel_choice' with NaN.**"
      ],
      "metadata": {
        "id": "o-iFcXVhyYo9"
      }
    },
    {
      "cell_type": "code",
      "source": [
        "train_data.preferable_fuel_choice.unique()"
      ],
      "metadata": {
        "colab": {
          "base_uri": "https://localhost:8080/"
        },
        "id": "xHTgP8EsyVGk",
        "outputId": "19d1ca33-b270-4c81-e91c-496a3f076734"
      },
      "execution_count": 100,
      "outputs": [
        {
          "output_type": "execute_result",
          "data": {
            "text/plain": [
              "array(['Hybrid', 'Petrol', 'Diesel', 'EV', nan, 'SVY@#', 'IX%K#', '#%KXJ'],\n",
              "      dtype=object)"
            ]
          },
          "metadata": {},
          "execution_count": 100
        }
      ]
    },
    {
      "cell_type": "code",
      "source": [
        "train_data['preferable_fuel_choice']=train_data.preferable_fuel_choice.replace({'SVY@#', 'IX%K#', '#%KXJ'}, np.NaN)\n",
        "train_data.preferable_fuel_choice.unique()"
      ],
      "metadata": {
        "colab": {
          "base_uri": "https://localhost:8080/"
        },
        "id": "TbtSxv9vyhCa",
        "outputId": "a856b869-3b66-4ef9-f70f-0164177f7ea5"
      },
      "execution_count": 101,
      "outputs": [
        {
          "output_type": "execute_result",
          "data": {
            "text/plain": [
              "array(['Hybrid', 'Petrol', 'Diesel', 'EV', nan], dtype=object)"
            ]
          },
          "metadata": {},
          "execution_count": 101
        }
      ]
    },
    {
      "cell_type": "markdown",
      "source": [
        "##Dealing with Null Values."
      ],
      "metadata": {
        "id": "Nv3v7xyJy05c"
      }
    },
    {
      "cell_type": "code",
      "source": [
        "series = train_data.isna().sum()\n",
        "missing_total = series[series.values>0]\n",
        "\n",
        "series1 = round(train_data.isna().mean()*100, 4)\n",
        "missing_percentage = series1[series1.values>0]\n",
        "\n",
        "df = pd.concat([missing_total, missing_percentage], axis=1, keys=['Missing_total', 'Missing_percentage'])\n",
        "df"
      ],
      "metadata": {
        "colab": {
          "base_uri": "https://localhost:8080/",
          "height": 0
        },
        "id": "l18GbOQuywEB",
        "outputId": "cb4642ca-65b8-455b-d474-1a322a010bb2"
      },
      "execution_count": 102,
      "outputs": [
        {
          "output_type": "execute_result",
          "data": {
            "text/plain": [
              "                        Missing_total  Missing_percentage\n",
              "Age                               439              1.4633\n",
              "Gender                            421              1.4033\n",
              "City                              427              1.4233\n",
              "is_Married                        425              1.4167\n",
              "family_size                       414              1.3800\n",
              "height                            431              1.4367\n",
              "annual_income                     419              1.3967\n",
              "job                               432              1.4400\n",
              "is_physically_ok                  424              1.4133\n",
              "has_taken_car_loan                434              1.4467\n",
              "preferable_fuel_choice            431              1.4367"
            ],
            "text/html": [
              "\n",
              "  <div id=\"df-56bb0d00-47d3-45f4-8ac9-316995ce9bef\">\n",
              "    <div class=\"colab-df-container\">\n",
              "      <div>\n",
              "<style scoped>\n",
              "    .dataframe tbody tr th:only-of-type {\n",
              "        vertical-align: middle;\n",
              "    }\n",
              "\n",
              "    .dataframe tbody tr th {\n",
              "        vertical-align: top;\n",
              "    }\n",
              "\n",
              "    .dataframe thead th {\n",
              "        text-align: right;\n",
              "    }\n",
              "</style>\n",
              "<table border=\"1\" class=\"dataframe\">\n",
              "  <thead>\n",
              "    <tr style=\"text-align: right;\">\n",
              "      <th></th>\n",
              "      <th>Missing_total</th>\n",
              "      <th>Missing_percentage</th>\n",
              "    </tr>\n",
              "  </thead>\n",
              "  <tbody>\n",
              "    <tr>\n",
              "      <th>Age</th>\n",
              "      <td>439</td>\n",
              "      <td>1.4633</td>\n",
              "    </tr>\n",
              "    <tr>\n",
              "      <th>Gender</th>\n",
              "      <td>421</td>\n",
              "      <td>1.4033</td>\n",
              "    </tr>\n",
              "    <tr>\n",
              "      <th>City</th>\n",
              "      <td>427</td>\n",
              "      <td>1.4233</td>\n",
              "    </tr>\n",
              "    <tr>\n",
              "      <th>is_Married</th>\n",
              "      <td>425</td>\n",
              "      <td>1.4167</td>\n",
              "    </tr>\n",
              "    <tr>\n",
              "      <th>family_size</th>\n",
              "      <td>414</td>\n",
              "      <td>1.3800</td>\n",
              "    </tr>\n",
              "    <tr>\n",
              "      <th>height</th>\n",
              "      <td>431</td>\n",
              "      <td>1.4367</td>\n",
              "    </tr>\n",
              "    <tr>\n",
              "      <th>annual_income</th>\n",
              "      <td>419</td>\n",
              "      <td>1.3967</td>\n",
              "    </tr>\n",
              "    <tr>\n",
              "      <th>job</th>\n",
              "      <td>432</td>\n",
              "      <td>1.4400</td>\n",
              "    </tr>\n",
              "    <tr>\n",
              "      <th>is_physically_ok</th>\n",
              "      <td>424</td>\n",
              "      <td>1.4133</td>\n",
              "    </tr>\n",
              "    <tr>\n",
              "      <th>has_taken_car_loan</th>\n",
              "      <td>434</td>\n",
              "      <td>1.4467</td>\n",
              "    </tr>\n",
              "    <tr>\n",
              "      <th>preferable_fuel_choice</th>\n",
              "      <td>431</td>\n",
              "      <td>1.4367</td>\n",
              "    </tr>\n",
              "  </tbody>\n",
              "</table>\n",
              "</div>\n",
              "      <button class=\"colab-df-convert\" onclick=\"convertToInteractive('df-56bb0d00-47d3-45f4-8ac9-316995ce9bef')\"\n",
              "              title=\"Convert this dataframe to an interactive table.\"\n",
              "              style=\"display:none;\">\n",
              "        \n",
              "  <svg xmlns=\"http://www.w3.org/2000/svg\" height=\"24px\"viewBox=\"0 0 24 24\"\n",
              "       width=\"24px\">\n",
              "    <path d=\"M0 0h24v24H0V0z\" fill=\"none\"/>\n",
              "    <path d=\"M18.56 5.44l.94 2.06.94-2.06 2.06-.94-2.06-.94-.94-2.06-.94 2.06-2.06.94zm-11 1L8.5 8.5l.94-2.06 2.06-.94-2.06-.94L8.5 2.5l-.94 2.06-2.06.94zm10 10l.94 2.06.94-2.06 2.06-.94-2.06-.94-.94-2.06-.94 2.06-2.06.94z\"/><path d=\"M17.41 7.96l-1.37-1.37c-.4-.4-.92-.59-1.43-.59-.52 0-1.04.2-1.43.59L10.3 9.45l-7.72 7.72c-.78.78-.78 2.05 0 2.83L4 21.41c.39.39.9.59 1.41.59.51 0 1.02-.2 1.41-.59l7.78-7.78 2.81-2.81c.8-.78.8-2.07 0-2.86zM5.41 20L4 18.59l7.72-7.72 1.47 1.35L5.41 20z\"/>\n",
              "  </svg>\n",
              "      </button>\n",
              "      \n",
              "  <style>\n",
              "    .colab-df-container {\n",
              "      display:flex;\n",
              "      flex-wrap:wrap;\n",
              "      gap: 12px;\n",
              "    }\n",
              "\n",
              "    .colab-df-convert {\n",
              "      background-color: #E8F0FE;\n",
              "      border: none;\n",
              "      border-radius: 50%;\n",
              "      cursor: pointer;\n",
              "      display: none;\n",
              "      fill: #1967D2;\n",
              "      height: 32px;\n",
              "      padding: 0 0 0 0;\n",
              "      width: 32px;\n",
              "    }\n",
              "\n",
              "    .colab-df-convert:hover {\n",
              "      background-color: #E2EBFA;\n",
              "      box-shadow: 0px 1px 2px rgba(60, 64, 67, 0.3), 0px 1px 3px 1px rgba(60, 64, 67, 0.15);\n",
              "      fill: #174EA6;\n",
              "    }\n",
              "\n",
              "    [theme=dark] .colab-df-convert {\n",
              "      background-color: #3B4455;\n",
              "      fill: #D2E3FC;\n",
              "    }\n",
              "\n",
              "    [theme=dark] .colab-df-convert:hover {\n",
              "      background-color: #434B5C;\n",
              "      box-shadow: 0px 1px 3px 1px rgba(0, 0, 0, 0.15);\n",
              "      filter: drop-shadow(0px 1px 2px rgba(0, 0, 0, 0.3));\n",
              "      fill: #FFFFFF;\n",
              "    }\n",
              "  </style>\n",
              "\n",
              "      <script>\n",
              "        const buttonEl =\n",
              "          document.querySelector('#df-56bb0d00-47d3-45f4-8ac9-316995ce9bef button.colab-df-convert');\n",
              "        buttonEl.style.display =\n",
              "          google.colab.kernel.accessAllowed ? 'block' : 'none';\n",
              "\n",
              "        async function convertToInteractive(key) {\n",
              "          const element = document.querySelector('#df-56bb0d00-47d3-45f4-8ac9-316995ce9bef');\n",
              "          const dataTable =\n",
              "            await google.colab.kernel.invokeFunction('convertToInteractive',\n",
              "                                                     [key], {});\n",
              "          if (!dataTable) return;\n",
              "\n",
              "          const docLinkHtml = 'Like what you see? Visit the ' +\n",
              "            '<a target=\"_blank\" href=https://colab.research.google.com/notebooks/data_table.ipynb>data table notebook</a>'\n",
              "            + ' to learn more about interactive tables.';\n",
              "          element.innerHTML = '';\n",
              "          dataTable['output_type'] = 'display_data';\n",
              "          await google.colab.output.renderOutput(dataTable, element);\n",
              "          const docLink = document.createElement('div');\n",
              "          docLink.innerHTML = docLinkHtml;\n",
              "          element.appendChild(docLink);\n",
              "        }\n",
              "      </script>\n",
              "    </div>\n",
              "  </div>\n",
              "  "
            ]
          },
          "metadata": {},
          "execution_count": 102
        }
      ]
    },
    {
      "cell_type": "markdown",
      "source": [
        "**Since the missing percentage is low, dropping all the missing values in the data.**"
      ],
      "metadata": {
        "id": "UT3zPQ66zoTS"
      }
    },
    {
      "cell_type": "code",
      "source": [
        "train_data = train_data.dropna(how ='any')\n",
        "train_data.isna().sum().sum()"
      ],
      "metadata": {
        "colab": {
          "base_uri": "https://localhost:8080/"
        },
        "id": "3HFr8BwUzf-0",
        "outputId": "a4b452cb-c81d-4bf1-e948-a7a7a6c6071f"
      },
      "execution_count": 103,
      "outputs": [
        {
          "output_type": "execute_result",
          "data": {
            "text/plain": [
              "0"
            ]
          },
          "metadata": {},
          "execution_count": 103
        }
      ]
    },
    {
      "cell_type": "code",
      "source": [
        "train_data.shape"
      ],
      "metadata": {
        "colab": {
          "base_uri": "https://localhost:8080/"
        },
        "id": "rWJD-q-a0y_Y",
        "outputId": "a771d73a-3414-4424-f646-4784d01973fd"
      },
      "execution_count": 104,
      "outputs": [
        {
          "output_type": "execute_result",
          "data": {
            "text/plain": [
              "(25606, 13)"
            ]
          },
          "metadata": {},
          "execution_count": 104
        }
      ]
    },
    {
      "cell_type": "markdown",
      "source": [
        "**Checking for duplicated rows.**"
      ],
      "metadata": {
        "id": "eTnjx08I0O0n"
      }
    },
    {
      "cell_type": "code",
      "source": [
        "train_data.duplicated().sum()"
      ],
      "metadata": {
        "colab": {
          "base_uri": "https://localhost:8080/"
        },
        "id": "DV5Qmru30EkL",
        "outputId": "9a25abd9-eaff-4d5f-94b0-0799d78f2e47"
      },
      "execution_count": 105,
      "outputs": [
        {
          "output_type": "execute_result",
          "data": {
            "text/plain": [
              "0"
            ]
          },
          "metadata": {},
          "execution_count": 105
        }
      ]
    },
    {
      "cell_type": "markdown",
      "source": [
        "There are no duplicates in the data."
      ],
      "metadata": {
        "id": "iNJ9znOD0YlZ"
      }
    },
    {
      "cell_type": "markdown",
      "source": [
        "**Some Statistical description of the numerical data.**"
      ],
      "metadata": {
        "id": "YE1QkTJd0qEV"
      }
    },
    {
      "cell_type": "code",
      "source": [
        "train_data.describe()"
      ],
      "metadata": {
        "colab": {
          "base_uri": "https://localhost:8080/",
          "height": 0
        },
        "id": "cSGjhdoy0W4-",
        "outputId": "50592dec-2595-45c9-8955-6d99b355b939"
      },
      "execution_count": 106,
      "outputs": [
        {
          "output_type": "execute_result",
          "data": {
            "text/plain": [
              "                Age   family_size        height  annual_income\n",
              "count  25606.000000  25606.000000  25606.000000   25606.000000\n",
              "mean      31.035265      2.879052    153.011247   84735.078497\n",
              "std        9.898874      1.633333     11.156144   60568.122478\n",
              "min       15.000000      1.000000    130.000000    2000.000000\n",
              "25%       24.000000      1.000000    144.000000   37000.000000\n",
              "50%       30.000000      3.000000    152.000000   82310.000000\n",
              "75%       36.000000      4.000000    160.000000  128200.000000\n",
              "max       60.000000      6.000000    180.000000  499000.000000"
            ],
            "text/html": [
              "\n",
              "  <div id=\"df-61484aba-db93-4815-9247-7dd4229bfa6b\">\n",
              "    <div class=\"colab-df-container\">\n",
              "      <div>\n",
              "<style scoped>\n",
              "    .dataframe tbody tr th:only-of-type {\n",
              "        vertical-align: middle;\n",
              "    }\n",
              "\n",
              "    .dataframe tbody tr th {\n",
              "        vertical-align: top;\n",
              "    }\n",
              "\n",
              "    .dataframe thead th {\n",
              "        text-align: right;\n",
              "    }\n",
              "</style>\n",
              "<table border=\"1\" class=\"dataframe\">\n",
              "  <thead>\n",
              "    <tr style=\"text-align: right;\">\n",
              "      <th></th>\n",
              "      <th>Age</th>\n",
              "      <th>family_size</th>\n",
              "      <th>height</th>\n",
              "      <th>annual_income</th>\n",
              "    </tr>\n",
              "  </thead>\n",
              "  <tbody>\n",
              "    <tr>\n",
              "      <th>count</th>\n",
              "      <td>25606.000000</td>\n",
              "      <td>25606.000000</td>\n",
              "      <td>25606.000000</td>\n",
              "      <td>25606.000000</td>\n",
              "    </tr>\n",
              "    <tr>\n",
              "      <th>mean</th>\n",
              "      <td>31.035265</td>\n",
              "      <td>2.879052</td>\n",
              "      <td>153.011247</td>\n",
              "      <td>84735.078497</td>\n",
              "    </tr>\n",
              "    <tr>\n",
              "      <th>std</th>\n",
              "      <td>9.898874</td>\n",
              "      <td>1.633333</td>\n",
              "      <td>11.156144</td>\n",
              "      <td>60568.122478</td>\n",
              "    </tr>\n",
              "    <tr>\n",
              "      <th>min</th>\n",
              "      <td>15.000000</td>\n",
              "      <td>1.000000</td>\n",
              "      <td>130.000000</td>\n",
              "      <td>2000.000000</td>\n",
              "    </tr>\n",
              "    <tr>\n",
              "      <th>25%</th>\n",
              "      <td>24.000000</td>\n",
              "      <td>1.000000</td>\n",
              "      <td>144.000000</td>\n",
              "      <td>37000.000000</td>\n",
              "    </tr>\n",
              "    <tr>\n",
              "      <th>50%</th>\n",
              "      <td>30.000000</td>\n",
              "      <td>3.000000</td>\n",
              "      <td>152.000000</td>\n",
              "      <td>82310.000000</td>\n",
              "    </tr>\n",
              "    <tr>\n",
              "      <th>75%</th>\n",
              "      <td>36.000000</td>\n",
              "      <td>4.000000</td>\n",
              "      <td>160.000000</td>\n",
              "      <td>128200.000000</td>\n",
              "    </tr>\n",
              "    <tr>\n",
              "      <th>max</th>\n",
              "      <td>60.000000</td>\n",
              "      <td>6.000000</td>\n",
              "      <td>180.000000</td>\n",
              "      <td>499000.000000</td>\n",
              "    </tr>\n",
              "  </tbody>\n",
              "</table>\n",
              "</div>\n",
              "      <button class=\"colab-df-convert\" onclick=\"convertToInteractive('df-61484aba-db93-4815-9247-7dd4229bfa6b')\"\n",
              "              title=\"Convert this dataframe to an interactive table.\"\n",
              "              style=\"display:none;\">\n",
              "        \n",
              "  <svg xmlns=\"http://www.w3.org/2000/svg\" height=\"24px\"viewBox=\"0 0 24 24\"\n",
              "       width=\"24px\">\n",
              "    <path d=\"M0 0h24v24H0V0z\" fill=\"none\"/>\n",
              "    <path d=\"M18.56 5.44l.94 2.06.94-2.06 2.06-.94-2.06-.94-.94-2.06-.94 2.06-2.06.94zm-11 1L8.5 8.5l.94-2.06 2.06-.94-2.06-.94L8.5 2.5l-.94 2.06-2.06.94zm10 10l.94 2.06.94-2.06 2.06-.94-2.06-.94-.94-2.06-.94 2.06-2.06.94z\"/><path d=\"M17.41 7.96l-1.37-1.37c-.4-.4-.92-.59-1.43-.59-.52 0-1.04.2-1.43.59L10.3 9.45l-7.72 7.72c-.78.78-.78 2.05 0 2.83L4 21.41c.39.39.9.59 1.41.59.51 0 1.02-.2 1.41-.59l7.78-7.78 2.81-2.81c.8-.78.8-2.07 0-2.86zM5.41 20L4 18.59l7.72-7.72 1.47 1.35L5.41 20z\"/>\n",
              "  </svg>\n",
              "      </button>\n",
              "      \n",
              "  <style>\n",
              "    .colab-df-container {\n",
              "      display:flex;\n",
              "      flex-wrap:wrap;\n",
              "      gap: 12px;\n",
              "    }\n",
              "\n",
              "    .colab-df-convert {\n",
              "      background-color: #E8F0FE;\n",
              "      border: none;\n",
              "      border-radius: 50%;\n",
              "      cursor: pointer;\n",
              "      display: none;\n",
              "      fill: #1967D2;\n",
              "      height: 32px;\n",
              "      padding: 0 0 0 0;\n",
              "      width: 32px;\n",
              "    }\n",
              "\n",
              "    .colab-df-convert:hover {\n",
              "      background-color: #E2EBFA;\n",
              "      box-shadow: 0px 1px 2px rgba(60, 64, 67, 0.3), 0px 1px 3px 1px rgba(60, 64, 67, 0.15);\n",
              "      fill: #174EA6;\n",
              "    }\n",
              "\n",
              "    [theme=dark] .colab-df-convert {\n",
              "      background-color: #3B4455;\n",
              "      fill: #D2E3FC;\n",
              "    }\n",
              "\n",
              "    [theme=dark] .colab-df-convert:hover {\n",
              "      background-color: #434B5C;\n",
              "      box-shadow: 0px 1px 3px 1px rgba(0, 0, 0, 0.15);\n",
              "      filter: drop-shadow(0px 1px 2px rgba(0, 0, 0, 0.3));\n",
              "      fill: #FFFFFF;\n",
              "    }\n",
              "  </style>\n",
              "\n",
              "      <script>\n",
              "        const buttonEl =\n",
              "          document.querySelector('#df-61484aba-db93-4815-9247-7dd4229bfa6b button.colab-df-convert');\n",
              "        buttonEl.style.display =\n",
              "          google.colab.kernel.accessAllowed ? 'block' : 'none';\n",
              "\n",
              "        async function convertToInteractive(key) {\n",
              "          const element = document.querySelector('#df-61484aba-db93-4815-9247-7dd4229bfa6b');\n",
              "          const dataTable =\n",
              "            await google.colab.kernel.invokeFunction('convertToInteractive',\n",
              "                                                     [key], {});\n",
              "          if (!dataTable) return;\n",
              "\n",
              "          const docLinkHtml = 'Like what you see? Visit the ' +\n",
              "            '<a target=\"_blank\" href=https://colab.research.google.com/notebooks/data_table.ipynb>data table notebook</a>'\n",
              "            + ' to learn more about interactive tables.';\n",
              "          element.innerHTML = '';\n",
              "          dataTable['output_type'] = 'display_data';\n",
              "          await google.colab.output.renderOutput(dataTable, element);\n",
              "          const docLink = document.createElement('div');\n",
              "          docLink.innerHTML = docLinkHtml;\n",
              "          element.appendChild(docLink);\n",
              "        }\n",
              "      </script>\n",
              "    </div>\n",
              "  </div>\n",
              "  "
            ]
          },
          "metadata": {},
          "execution_count": 106
        }
      ]
    },
    {
      "cell_type": "markdown",
      "source": [
        "**Histogram of the numerical variables.**\n"
      ],
      "metadata": {
        "id": "GmUuSKCX1grW"
      }
    },
    {
      "cell_type": "markdown",
      "source": [
        "##Outliers"
      ],
      "metadata": {
        "id": "z8wFJwS22j93"
      }
    },
    {
      "cell_type": "code",
      "source": [
        "nums = train_data.select_dtypes(include=['float64'])\n",
        "print(nums.shape)\n",
        "print(nums.columns)"
      ],
      "metadata": {
        "colab": {
          "base_uri": "https://localhost:8080/"
        },
        "id": "v_EHRJ0r4Pbt",
        "outputId": "f1552071-92ba-4937-e3d2-01e24ddeb580"
      },
      "execution_count": 107,
      "outputs": [
        {
          "output_type": "stream",
          "name": "stdout",
          "text": [
            "(25606, 4)\n",
            "Index(['Age', 'family_size', 'height', 'annual_income'], dtype='object')\n"
          ]
        }
      ]
    },
    {
      "cell_type": "code",
      "source": [
        "for index,column in enumerate(nums):\n",
        "    fig=plt.figure(figsize=(10,40))\n",
        "    plt.subplot(7,1,index+1)\n",
        "    sns.boxenplot(nums[column])\n",
        "    plt.xlabel(column)"
      ],
      "metadata": {
        "colab": {
          "base_uri": "https://localhost:8080/",
          "height": 0
        },
        "id": "HkN2CRba19k6",
        "outputId": "34fa01b9-7c87-424c-dd00-b5bd2554a5a4"
      },
      "execution_count": 108,
      "outputs": [
        {
          "output_type": "stream",
          "name": "stderr",
          "text": [
            "/usr/local/lib/python3.7/dist-packages/seaborn/_decorators.py:43: FutureWarning: Pass the following variable as a keyword arg: x. From version 0.12, the only valid positional argument will be `data`, and passing other arguments without an explicit keyword will result in an error or misinterpretation.\n",
            "  FutureWarning\n",
            "/usr/local/lib/python3.7/dist-packages/seaborn/_decorators.py:43: FutureWarning: Pass the following variable as a keyword arg: x. From version 0.12, the only valid positional argument will be `data`, and passing other arguments without an explicit keyword will result in an error or misinterpretation.\n",
            "  FutureWarning\n",
            "/usr/local/lib/python3.7/dist-packages/seaborn/_decorators.py:43: FutureWarning: Pass the following variable as a keyword arg: x. From version 0.12, the only valid positional argument will be `data`, and passing other arguments without an explicit keyword will result in an error or misinterpretation.\n",
            "  FutureWarning\n",
            "/usr/local/lib/python3.7/dist-packages/seaborn/_decorators.py:43: FutureWarning: Pass the following variable as a keyword arg: x. From version 0.12, the only valid positional argument will be `data`, and passing other arguments without an explicit keyword will result in an error or misinterpretation.\n",
            "  FutureWarning\n"
          ]
        },
        {
          "output_type": "display_data",
          "data": {
            "text/plain": [
              "<Figure size 720x2880 with 1 Axes>"
            ],
            "image/png": "[encoded data removed]"
          },
          "metadata": {
            "needs_background": "light"
          }
        },
        {
          "output_type": "display_data",
          "data": {
            "text/plain": [
              "<Figure size 720x2880 with 1 Axes>"
            ],
            "image/png": "[encoded data removed]"
          },
          "metadata": {
            "needs_background": "light"
          }
        },
        {
          "output_type": "display_data",
          "data": {
            "text/plain": [
              "<Figure size 720x2880 with 1 Axes>"
            ],
            "image/png": "[encoded data removed]"
          },
          "metadata": {
            "needs_background": "light"
          }
        },
        {
          "output_type": "display_data",
          "data": {
            "text/plain": [
              "<Figure size 720x2880 with 1 Axes>"
            ],
            "image/png": "[encoded data removed]"
          },
          "metadata": {
            "needs_background": "light"
          }
        }
      ]
    },
    {
      "cell_type": "code",
      "source": [
        "def outliers(x):\n",
        "    q1 = np.quantile(x,0.25)\n",
        "    q3 = np.quantile(x,0.75)\n",
        "    \n",
        "    iqr = q3-q1\n",
        "    \n",
        "    min_range = q1 - iqr*1.5\n",
        "    max_range = q3 + iqr*1.5\n",
        "    \n",
        "    outlier_values = x[(x<min_range) | (x>max_range)]\n",
        "    return outlier_values"
      ],
      "metadata": {
        "id": "OP6yX5s32y-C"
      },
      "execution_count": 109,
      "outputs": []
    },
    {
      "cell_type": "code",
      "source": [
        "for i in nums:\n",
        "  outlier_values = outliers(nums[i])\n",
        "  print(outlier_values)"
      ],
      "metadata": {
        "colab": {
          "base_uri": "https://localhost:8080/"
        },
        "id": "2k7VsK1a24_H",
        "outputId": "67556685-bdcd-4010-ad3a-468e4f6ea1e9"
      },
      "execution_count": 110,
      "outputs": [
        {
          "output_type": "stream",
          "name": "stdout",
          "text": [
            "2        55.0\n",
            "19       56.0\n",
            "50       55.0\n",
            "54       60.0\n",
            "64       56.0\n",
            "         ... \n",
            "29851    59.0\n",
            "29925    58.0\n",
            "29953    56.0\n",
            "29976    56.0\n",
            "29979    56.0\n",
            "Name: Age, Length: 878, dtype: float64\n",
            "Series([], Name: family_size, dtype: float64)\n",
            "Series([], Name: height, dtype: float64)\n",
            "54       303500.0\n",
            "89       286600.0\n",
            "149      412400.0\n",
            "242      339900.0\n",
            "384      390600.0\n",
            "           ...   \n",
            "29072    476900.0\n",
            "29356    420400.0\n",
            "29384    385800.0\n",
            "29583    414700.0\n",
            "29618    319000.0\n",
            "Name: annual_income, Length: 222, dtype: float64\n"
          ]
        }
      ]
    },
    {
      "cell_type": "markdown",
      "source": [
        "\n",
        "\n",
        "> No outliers are printed for the variables 'height' and 'family_size'.\n",
        "\n",
        "> Outliers of 'Age' and 'annual_income' can be removed for better prediction of the model.\n",
        "\n",
        "\n",
        "\n"
      ],
      "metadata": {
        "id": "00b5vdhY46wd"
      }
    },
    {
      "cell_type": "code",
      "source": [
        "list1 = outliers(train_data['Age']).index.to_list()\n",
        "list2 = outliers(train_data['annual_income']).index.to_list()\n",
        "list_outliers = list1 + list2\n",
        "train_data = train_data.drop(list_outliers)"
      ],
      "metadata": {
        "id": "TIRtX7Kq57OL"
      },
      "execution_count": 111,
      "outputs": []
    },
    {
      "cell_type": "code",
      "source": [
        "outliers(train_data['Age'])"
      ],
      "metadata": {
        "colab": {
          "base_uri": "https://localhost:8080/"
        },
        "id": "sWiP5m_M6tDN",
        "outputId": "3bde0c65-55f1-4062-bc49-7fc70457b2d6"
      },
      "execution_count": 112,
      "outputs": [
        {
          "output_type": "execute_result",
          "data": {
            "text/plain": [
              "96       54.0\n",
              "294      54.0\n",
              "566      54.0\n",
              "633      54.0\n",
              "777      54.0\n",
              "         ... \n",
              "29322    54.0\n",
              "29721    54.0\n",
              "29872    54.0\n",
              "29876    54.0\n",
              "29920    54.0\n",
              "Name: Age, Length: 139, dtype: float64"
            ]
          },
          "metadata": {},
          "execution_count": 112
        }
      ]
    },
    {
      "cell_type": "code",
      "source": [
        "outliers(train_data['annual_income'])"
      ],
      "metadata": {
        "colab": {
          "base_uri": "https://localhost:8080/"
        },
        "id": "NR95UiAE7Tqk",
        "outputId": "b56fc509-5baf-4cc1-9154-0e6a1aee2b8f"
      },
      "execution_count": 113,
      "outputs": [
        {
          "output_type": "execute_result",
          "data": {
            "text/plain": [
              "14815    263700.0\n",
              "Name: annual_income, dtype: float64"
            ]
          },
          "metadata": {},
          "execution_count": 113
        }
      ]
    },
    {
      "cell_type": "code",
      "source": [
        "train_data.shape"
      ],
      "metadata": {
        "colab": {
          "base_uri": "https://localhost:8080/"
        },
        "id": "OXWHnYZV7afO",
        "outputId": "c14c313b-5bee-461d-a6fc-294208bb3ff2"
      },
      "execution_count": 114,
      "outputs": [
        {
          "output_type": "execute_result",
          "data": {
            "text/plain": [
              "(24586, 13)"
            ]
          },
          "metadata": {},
          "execution_count": 114
        }
      ]
    },
    {
      "cell_type": "code",
      "source": [
        "sns.boxenplot(train_data['annual_income'])"
      ],
      "metadata": {
        "colab": {
          "base_uri": "https://localhost:8080/",
          "height": 0
        },
        "id": "Hsu7A89Y7fcS",
        "outputId": "04645640-8317-4fdd-fcbb-0c98a9268367"
      },
      "execution_count": 115,
      "outputs": [
        {
          "output_type": "stream",
          "name": "stderr",
          "text": [
            "/usr/local/lib/python3.7/dist-packages/seaborn/_decorators.py:43: FutureWarning: Pass the following variable as a keyword arg: x. From version 0.12, the only valid positional argument will be `data`, and passing other arguments without an explicit keyword will result in an error or misinterpretation.\n",
            "  FutureWarning\n"
          ]
        },
        {
          "output_type": "execute_result",
          "data": {
            "text/plain": [
              "<matplotlib.axes._subplots.AxesSubplot at 0x7f71d5f96e10>"
            ]
          },
          "metadata": {},
          "execution_count": 115
        },
        {
          "output_type": "display_data",
          "data": {
            "text/plain": [
              "<Figure size 432x288 with 1 Axes>"
            ],
            "image/png": "[encoded data removed]"
          },
          "metadata": {
            "needs_background": "light"
          }
        }
      ]
    },
    {
      "cell_type": "code",
      "source": [
        "sns.boxenplot(train_data['Age'])"
      ],
      "metadata": {
        "colab": {
          "base_uri": "https://localhost:8080/",
          "height": 0
        },
        "id": "9OyfkLBX7oPB",
        "outputId": "c73401f6-a18c-4ff9-9f40-25eae6eb79fc"
      },
      "execution_count": 116,
      "outputs": [
        {
          "output_type": "stream",
          "name": "stderr",
          "text": [
            "/usr/local/lib/python3.7/dist-packages/seaborn/_decorators.py:43: FutureWarning: Pass the following variable as a keyword arg: x. From version 0.12, the only valid positional argument will be `data`, and passing other arguments without an explicit keyword will result in an error or misinterpretation.\n",
            "  FutureWarning\n"
          ]
        },
        {
          "output_type": "execute_result",
          "data": {
            "text/plain": [
              "<matplotlib.axes._subplots.AxesSubplot at 0x7f71d5ef8a90>"
            ]
          },
          "metadata": {},
          "execution_count": 116
        },
        {
          "output_type": "display_data",
          "data": {
            "text/plain": [
              "<Figure size 432x288 with 1 Axes>"
            ],
            "image/png": "[encoded data removed]"
          },
          "metadata": {
            "needs_background": "light"
          }
        }
      ]
    },
    {
      "cell_type": "markdown",
      "source": [
        "**Normalising the numerical variables.**\n"
      ],
      "metadata": {
        "id": "HeIlSPvr8SWe"
      }
    },
    {
      "cell_type": "code",
      "source": [
        "nums_arr = normalize(nums)\n",
        "nums = pd.DataFrame(nums_arr, columns=nums.columns)\n",
        "nums.head()"
      ],
      "metadata": {
        "colab": {
          "base_uri": "https://localhost:8080/",
          "height": 0
        },
        "id": "skjpdK4n796c",
        "outputId": "12e687e1-79ae-45e0-8926-8920f11e2873"
      },
      "execution_count": 117,
      "outputs": [
        {
          "output_type": "execute_result",
          "data": {
            "text/plain": [
              "        Age  family_size    height  annual_income\n",
              "0  0.001118     0.000062  0.004969       0.999987\n",
              "1  0.001666     0.000111  0.015887       0.999872\n",
              "2  0.000361     0.000013  0.001102       0.999999\n",
              "3  0.000163     0.000021  0.001169       0.999999\n",
              "4  0.000604     0.000026  0.003858       0.999992"
            ],
            "text/html": [
              "\n",
              "  <div id=\"df-52715a16-6b62-439b-8782-3da6e2a8a983\">\n",
              "    <div class=\"colab-df-container\">\n",
              "      <div>\n",
              "<style scoped>\n",
              "    .dataframe tbody tr th:only-of-type {\n",
              "        vertical-align: middle;\n",
              "    }\n",
              "\n",
              "    .dataframe tbody tr th {\n",
              "        vertical-align: top;\n",
              "    }\n",
              "\n",
              "    .dataframe thead th {\n",
              "        text-align: right;\n",
              "    }\n",
              "</style>\n",
              "<table border=\"1\" class=\"dataframe\">\n",
              "  <thead>\n",
              "    <tr style=\"text-align: right;\">\n",
              "      <th></th>\n",
              "      <th>Age</th>\n",
              "      <th>family_size</th>\n",
              "      <th>height</th>\n",
              "      <th>annual_income</th>\n",
              "    </tr>\n",
              "  </thead>\n",
              "  <tbody>\n",
              "    <tr>\n",
              "      <th>0</th>\n",
              "      <td>0.001118</td>\n",
              "      <td>0.000062</td>\n",
              "      <td>0.004969</td>\n",
              "      <td>0.999987</td>\n",
              "    </tr>\n",
              "    <tr>\n",
              "      <th>1</th>\n",
              "      <td>0.001666</td>\n",
              "      <td>0.000111</td>\n",
              "      <td>0.015887</td>\n",
              "      <td>0.999872</td>\n",
              "    </tr>\n",
              "    <tr>\n",
              "      <th>2</th>\n",
              "      <td>0.000361</td>\n",
              "      <td>0.000013</td>\n",
              "      <td>0.001102</td>\n",
              "      <td>0.999999</td>\n",
              "    </tr>\n",
              "    <tr>\n",
              "      <th>3</th>\n",
              "      <td>0.000163</td>\n",
              "      <td>0.000021</td>\n",
              "      <td>0.001169</td>\n",
              "      <td>0.999999</td>\n",
              "    </tr>\n",
              "    <tr>\n",
              "      <th>4</th>\n",
              "      <td>0.000604</td>\n",
              "      <td>0.000026</td>\n",
              "      <td>0.003858</td>\n",
              "      <td>0.999992</td>\n",
              "    </tr>\n",
              "  </tbody>\n",
              "</table>\n",
              "</div>\n",
              "      <button class=\"colab-df-convert\" onclick=\"convertToInteractive('df-52715a16-6b62-439b-8782-3da6e2a8a983')\"\n",
              "              title=\"Convert this dataframe to an interactive table.\"\n",
              "              style=\"display:none;\">\n",
              "        \n",
              "  <svg xmlns=\"http://www.w3.org/2000/svg\" height=\"24px\"viewBox=\"0 0 24 24\"\n",
              "       width=\"24px\">\n",
              "    <path d=\"M0 0h24v24H0V0z\" fill=\"none\"/>\n",
              "    <path d=\"M18.56 5.44l.94 2.06.94-2.06 2.06-.94-2.06-.94-.94-2.06-.94 2.06-2.06.94zm-11 1L8.5 8.5l.94-2.06 2.06-.94-2.06-.94L8.5 2.5l-.94 2.06-2.06.94zm10 10l.94 2.06.94-2.06 2.06-.94-2.06-.94-.94-2.06-.94 2.06-2.06.94z\"/><path d=\"M17.41 7.96l-1.37-1.37c-.4-.4-.92-.59-1.43-.59-.52 0-1.04.2-1.43.59L10.3 9.45l-7.72 7.72c-.78.78-.78 2.05 0 2.83L4 21.41c.39.39.9.59 1.41.59.51 0 1.02-.2 1.41-.59l7.78-7.78 2.81-2.81c.8-.78.8-2.07 0-2.86zM5.41 20L4 18.59l7.72-7.72 1.47 1.35L5.41 20z\"/>\n",
              "  </svg>\n",
              "      </button>\n",
              "      \n",
              "  <style>\n",
              "    .colab-df-container {\n",
              "      display:flex;\n",
              "      flex-wrap:wrap;\n",
              "      gap: 12px;\n",
              "    }\n",
              "\n",
              "    .colab-df-convert {\n",
              "      background-color: #E8F0FE;\n",
              "      border: none;\n",
              "      border-radius: 50%;\n",
              "      cursor: pointer;\n",
              "      display: none;\n",
              "      fill: #1967D2;\n",
              "      height: 32px;\n",
              "      padding: 0 0 0 0;\n",
              "      width: 32px;\n",
              "    }\n",
              "\n",
              "    .colab-df-convert:hover {\n",
              "      background-color: #E2EBFA;\n",
              "      box-shadow: 0px 1px 2px rgba(60, 64, 67, 0.3), 0px 1px 3px 1px rgba(60, 64, 67, 0.15);\n",
              "      fill: #174EA6;\n",
              "    }\n",
              "\n",
              "    [theme=dark] .colab-df-convert {\n",
              "      background-color: #3B4455;\n",
              "      fill: #D2E3FC;\n",
              "    }\n",
              "\n",
              "    [theme=dark] .colab-df-convert:hover {\n",
              "      background-color: #434B5C;\n",
              "      box-shadow: 0px 1px 3px 1px rgba(0, 0, 0, 0.15);\n",
              "      filter: drop-shadow(0px 1px 2px rgba(0, 0, 0, 0.3));\n",
              "      fill: #FFFFFF;\n",
              "    }\n",
              "  </style>\n",
              "\n",
              "      <script>\n",
              "        const buttonEl =\n",
              "          document.querySelector('#df-52715a16-6b62-439b-8782-3da6e2a8a983 button.colab-df-convert');\n",
              "        buttonEl.style.display =\n",
              "          google.colab.kernel.accessAllowed ? 'block' : 'none';\n",
              "\n",
              "        async function convertToInteractive(key) {\n",
              "          const element = document.querySelector('#df-52715a16-6b62-439b-8782-3da6e2a8a983');\n",
              "          const dataTable =\n",
              "            await google.colab.kernel.invokeFunction('convertToInteractive',\n",
              "                                                     [key], {});\n",
              "          if (!dataTable) return;\n",
              "\n",
              "          const docLinkHtml = 'Like what you see? Visit the ' +\n",
              "            '<a target=\"_blank\" href=https://colab.research.google.com/notebooks/data_table.ipynb>data table notebook</a>'\n",
              "            + ' to learn more about interactive tables.';\n",
              "          element.innerHTML = '';\n",
              "          dataTable['output_type'] = 'display_data';\n",
              "          await google.colab.output.renderOutput(dataTable, element);\n",
              "          const docLink = document.createElement('div');\n",
              "          docLink.innerHTML = docLinkHtml;\n",
              "          element.appendChild(docLink);\n",
              "        }\n",
              "      </script>\n",
              "    </div>\n",
              "  </div>\n",
              "  "
            ]
          },
          "metadata": {},
          "execution_count": 117
        }
      ]
    },
    {
      "cell_type": "markdown",
      "source": [
        "**Encoding**"
      ],
      "metadata": {
        "id": "yQymhhTb9T-j"
      }
    },
    {
      "cell_type": "code",
      "source": [
        "train_data.columns"
      ],
      "metadata": {
        "colab": {
          "base_uri": "https://localhost:8080/"
        },
        "id": "7xwu2fK19fvm",
        "outputId": "8e08e648-dbb7-4265-ca92-e3cdee9bdd31"
      },
      "execution_count": 118,
      "outputs": [
        {
          "output_type": "execute_result",
          "data": {
            "text/plain": [
              "Index(['CustomerID', 'Age', 'Gender', 'City', 'is_Married', 'family_size',\n",
              "       'height', 'annual_income', 'job', 'is_physically_ok',\n",
              "       'has_taken_car_loan', 'preferable_fuel_choice', 'vehicle_choice'],\n",
              "      dtype='object')"
            ]
          },
          "metadata": {},
          "execution_count": 118
        }
      ]
    },
    {
      "cell_type": "markdown",
      "source": [
        "**Label Encoding 'City' and 'vehicle_choice'**"
      ],
      "metadata": {
        "id": "IdFsGxiL9qOj"
      }
    },
    {
      "cell_type": "code",
      "source": [
        "le = LabelEncoder()\n",
        "train_data['City'] = le.fit_transform(train_data['City'])\n",
        "mapping = dict(zip(le.classes_, le.transform(le.classes_)))\n",
        "print(mapping)"
      ],
      "metadata": {
        "colab": {
          "base_uri": "https://localhost:8080/"
        },
        "id": "KSEUhbNZ8mf6",
        "outputId": "7c8f68f9-c824-4735-ab3d-158aa70ff672"
      },
      "execution_count": 119,
      "outputs": [
        {
          "output_type": "stream",
          "name": "stdout",
          "text": [
            "{'Barcelona': 0, 'Berlin': 1, 'Budapest': 2, 'Chennai': 3, 'Delhi': 4, 'Florence': 5, 'Kolkata': 6, 'Kuala Lampur': 7, 'London': 8, 'Los Angeles': 9, 'Mumbai': 10, 'Munich': 11, 'New York City': 12, 'Paris': 13, 'Perth': 14, 'San Francisco': 15, 'Shinjuku': 16, 'Sydney': 17, 'Taipei': 18, 'Toronto': 19, 'Vancouver': 20, 'Vienna': 21}\n"
          ]
        }
      ]
    },
    {
      "cell_type": "code",
      "source": [
        "le = LabelEncoder()\n",
        "train_data['vehicle_choice'] = le.fit_transform(train_data['vehicle_choice'])\n",
        "mapping = dict(zip(le.classes_, le.transform(le.classes_)))\n",
        "print(mapping)"
      ],
      "metadata": {
        "colab": {
          "base_uri": "https://localhost:8080/"
        },
        "id": "7ISP-NzS-s8k",
        "outputId": "3ab9e58e-1d59-43b0-e008-5aa287800761"
      },
      "execution_count": 120,
      "outputs": [
        {
          "output_type": "stream",
          "name": "stdout",
          "text": [
            "{'Compact Sedan': 0, 'Compact Utility Vehicle': 1, 'Convertible': 2, 'Coupe': 3, 'Crossover': 4, 'Hatchback': 5, 'Luxury Coupe': 6, 'Luxury Sedan': 7, 'Minivan': 8, 'Pickup-Truck': 9, 'Sedan': 10, 'Sports Coupe': 11, 'Sports Sedan': 12, 'Sports Utility Vehicle': 13, 'Sportscar': 14, 'Station Wagon': 15, 'Utility Vehicle': 16, 'Utility vehicle': 17}\n"
          ]
        }
      ]
    },
    {
      "cell_type": "markdown",
      "source": [
        "**One Hot Encoding of the remaining categorical columns.**"
      ],
      "metadata": {
        "id": "TKTcFWur-67N"
      }
    },
    {
      "cell_type": "code",
      "source": [
        "train_data1 = pd.get_dummies(train_data[['Age', 'Gender','is_Married','job', 'is_physically_ok',\n",
        "       'has_taken_car_loan', 'preferable_fuel_choice']])"
      ],
      "metadata": {
        "id": "zH8Im4Id-4VV"
      },
      "execution_count": 121,
      "outputs": []
    },
    {
      "cell_type": "code",
      "source": [
        "train_data = pd.concat([train_data['CustomerID'], train_data1, train_data['City'], train_data['vehicle_choice']], axis=1)"
      ],
      "metadata": {
        "id": "E_0AHuJFDToM"
      },
      "execution_count": 122,
      "outputs": []
    },
    {
      "cell_type": "code",
      "source": [
        "train_data.head()"
      ],
      "metadata": {
        "colab": {
          "base_uri": "https://localhost:8080/",
          "height": 0
        },
        "id": "TraUzzL6_X7C",
        "outputId": "b3ffc890-515b-49d7-acde-8084ae7e1a09"
      },
      "execution_count": 123,
      "outputs": [
        {
          "output_type": "execute_result",
          "data": {
            "text/plain": [
              "    CustomerID   Age  Gender_Female  Gender_Male  Gender_Not_Specified  \\\n",
              "0  CusID_00000  36.0              0            1                     0   \n",
              "1  CusID_00001  15.0              1            0                     0   \n",
              "3  CusID_00003  23.0              0            1                     0   \n",
              "4  CusID_00004  23.0              0            0                     1   \n",
              "6  CusID_00006  35.0              0            0                     1   \n",
              "\n",
              "   is_Married_Divorced  is_Married_Married  is_Married_Single  job_Business  \\\n",
              "0                    1                   0                  0             0   \n",
              "1                    0                   0                  1             0   \n",
              "3                    1                   0                  0             1   \n",
              "4                    0                   0                  1             0   \n",
              "6                    0                   1                  0             1   \n",
              "\n",
              "   job_Service  ...  is_physically_ok_No  is_physically_ok_Yes  \\\n",
              "0            1  ...                    0                     1   \n",
              "1            1  ...                    0                     1   \n",
              "3            0  ...                    0                     1   \n",
              "4            1  ...                    0                     1   \n",
              "6            0  ...                    0                     1   \n",
              "\n",
              "   has_taken_car_loan_No  has_taken_car_loan_Yes  \\\n",
              "0                      0                       1   \n",
              "1                      0                       1   \n",
              "3                      1                       0   \n",
              "4                      0                       1   \n",
              "6                      1                       0   \n",
              "\n",
              "   preferable_fuel_choice_Diesel  preferable_fuel_choice_EV  \\\n",
              "0                              0                          0   \n",
              "1                              0                          0   \n",
              "3                              1                          0   \n",
              "4                              0                          0   \n",
              "6                              0                          0   \n",
              "\n",
              "   preferable_fuel_choice_Hybrid  preferable_fuel_choice_Petrol  City  \\\n",
              "0                              1                              0    12   \n",
              "1                              0                              1    12   \n",
              "3                              0                              0    20   \n",
              "4                              1                              0    20   \n",
              "6                              0                              1     0   \n",
              "\n",
              "   vehicle_choice  \n",
              "0              10  \n",
              "1               1  \n",
              "3              14  \n",
              "4              13  \n",
              "6               4  \n",
              "\n",
              "[5 rows x 22 columns]"
            ],
            "text/html": [
              "\n",
              "  <div id=\"df-3e9883d3-d1a1-43c8-8073-757c03f8a48f\">\n",
              "    <div class=\"colab-df-container\">\n",
              "      <div>\n",
              "<style scoped>\n",
              "    .dataframe tbody tr th:only-of-type {\n",
              "        vertical-align: middle;\n",
              "    }\n",
              "\n",
              "    .dataframe tbody tr th {\n",
              "        vertical-align: top;\n",
              "    }\n",
              "\n",
              "    .dataframe thead th {\n",
              "        text-align: right;\n",
              "    }\n",
              "</style>\n",
              "<table border=\"1\" class=\"dataframe\">\n",
              "  <thead>\n",
              "    <tr style=\"text-align: right;\">\n",
              "      <th></th>\n",
              "      <th>CustomerID</th>\n",
              "      <th>Age</th>\n",
              "      <th>Gender_Female</th>\n",
              "      <th>Gender_Male</th>\n",
              "      <th>Gender_Not_Specified</th>\n",
              "      <th>is_Married_Divorced</th>\n",
              "      <th>is_Married_Married</th>\n",
              "      <th>is_Married_Single</th>\n",
              "      <th>job_Business</th>\n",
              "      <th>job_Service</th>\n",
              "      <th>...</th>\n",
              "      <th>is_physically_ok_No</th>\n",
              "      <th>is_physically_ok_Yes</th>\n",
              "      <th>has_taken_car_loan_No</th>\n",
              "      <th>has_taken_car_loan_Yes</th>\n",
              "      <th>preferable_fuel_choice_Diesel</th>\n",
              "      <th>preferable_fuel_choice_EV</th>\n",
              "      <th>preferable_fuel_choice_Hybrid</th>\n",
              "      <th>preferable_fuel_choice_Petrol</th>\n",
              "      <th>City</th>\n",
              "      <th>vehicle_choice</th>\n",
              "    </tr>\n",
              "  </thead>\n",
              "  <tbody>\n",
              "    <tr>\n",
              "      <th>0</th>\n",
              "      <td>CusID_00000</td>\n",
              "      <td>36.0</td>\n",
              "      <td>0</td>\n",
              "      <td>1</td>\n",
              "      <td>0</td>\n",
              "      <td>1</td>\n",
              "      <td>0</td>\n",
              "      <td>0</td>\n",
              "      <td>0</td>\n",
              "      <td>1</td>\n",
              "      <td>...</td>\n",
              "      <td>0</td>\n",
              "      <td>1</td>\n",
              "      <td>0</td>\n",
              "      <td>1</td>\n",
              "      <td>0</td>\n",
              "      <td>0</td>\n",
              "      <td>1</td>\n",
              "      <td>0</td>\n",
              "      <td>12</td>\n",
              "      <td>10</td>\n",
              "    </tr>\n",
              "    <tr>\n",
              "      <th>1</th>\n",
              "      <td>CusID_00001</td>\n",
              "      <td>15.0</td>\n",
              "      <td>1</td>\n",
              "      <td>0</td>\n",
              "      <td>0</td>\n",
              "      <td>0</td>\n",
              "      <td>0</td>\n",
              "      <td>1</td>\n",
              "      <td>0</td>\n",
              "      <td>1</td>\n",
              "      <td>...</td>\n",
              "      <td>0</td>\n",
              "      <td>1</td>\n",
              "      <td>0</td>\n",
              "      <td>1</td>\n",
              "      <td>0</td>\n",
              "      <td>0</td>\n",
              "      <td>0</td>\n",
              "      <td>1</td>\n",
              "      <td>12</td>\n",
              "      <td>1</td>\n",
              "    </tr>\n",
              "    <tr>\n",
              "      <th>3</th>\n",
              "      <td>CusID_00003</td>\n",
              "      <td>23.0</td>\n",
              "      <td>0</td>\n",
              "      <td>1</td>\n",
              "      <td>0</td>\n",
              "      <td>1</td>\n",
              "      <td>0</td>\n",
              "      <td>0</td>\n",
              "      <td>1</td>\n",
              "      <td>0</td>\n",
              "      <td>...</td>\n",
              "      <td>0</td>\n",
              "      <td>1</td>\n",
              "      <td>1</td>\n",
              "      <td>0</td>\n",
              "      <td>1</td>\n",
              "      <td>0</td>\n",
              "      <td>0</td>\n",
              "      <td>0</td>\n",
              "      <td>20</td>\n",
              "      <td>14</td>\n",
              "    </tr>\n",
              "    <tr>\n",
              "      <th>4</th>\n",
              "      <td>CusID_00004</td>\n",
              "      <td>23.0</td>\n",
              "      <td>0</td>\n",
              "      <td>0</td>\n",
              "      <td>1</td>\n",
              "      <td>0</td>\n",
              "      <td>0</td>\n",
              "      <td>1</td>\n",
              "      <td>0</td>\n",
              "      <td>1</td>\n",
              "      <td>...</td>\n",
              "      <td>0</td>\n",
              "      <td>1</td>\n",
              "      <td>0</td>\n",
              "      <td>1</td>\n",
              "      <td>0</td>\n",
              "      <td>0</td>\n",
              "      <td>1</td>\n",
              "      <td>0</td>\n",
              "      <td>20</td>\n",
              "      <td>13</td>\n",
              "    </tr>\n",
              "    <tr>\n",
              "      <th>6</th>\n",
              "      <td>CusID_00006</td>\n",
              "      <td>35.0</td>\n",
              "      <td>0</td>\n",
              "      <td>0</td>\n",
              "      <td>1</td>\n",
              "      <td>0</td>\n",
              "      <td>1</td>\n",
              "      <td>0</td>\n",
              "      <td>1</td>\n",
              "      <td>0</td>\n",
              "      <td>...</td>\n",
              "      <td>0</td>\n",
              "      <td>1</td>\n",
              "      <td>1</td>\n",
              "      <td>0</td>\n",
              "      <td>0</td>\n",
              "      <td>0</td>\n",
              "      <td>0</td>\n",
              "      <td>1</td>\n",
              "      <td>0</td>\n",
              "      <td>4</td>\n",
              "    </tr>\n",
              "  </tbody>\n",
              "</table>\n",
              "<p>5 rows × 22 columns</p>\n",
              "</div>\n",
              "      <button class=\"colab-df-convert\" onclick=\"convertToInteractive('df-3e9883d3-d1a1-43c8-8073-757c03f8a48f')\"\n",
              "              title=\"Convert this dataframe to an interactive table.\"\n",
              "              style=\"display:none;\">\n",
              "        \n",
              "  <svg xmlns=\"http://www.w3.org/2000/svg\" height=\"24px\"viewBox=\"0 0 24 24\"\n",
              "       width=\"24px\">\n",
              "    <path d=\"M0 0h24v24H0V0z\" fill=\"none\"/>\n",
              "    <path d=\"M18.56 5.44l.94 2.06.94-2.06 2.06-.94-2.06-.94-.94-2.06-.94 2.06-2.06.94zm-11 1L8.5 8.5l.94-2.06 2.06-.94-2.06-.94L8.5 2.5l-.94 2.06-2.06.94zm10 10l.94 2.06.94-2.06 2.06-.94-2.06-.94-.94-2.06-.94 2.06-2.06.94z\"/><path d=\"M17.41 7.96l-1.37-1.37c-.4-.4-.92-.59-1.43-.59-.52 0-1.04.2-1.43.59L10.3 9.45l-7.72 7.72c-.78.78-.78 2.05 0 2.83L4 21.41c.39.39.9.59 1.41.59.51 0 1.02-.2 1.41-.59l7.78-7.78 2.81-2.81c.8-.78.8-2.07 0-2.86zM5.41 20L4 18.59l7.72-7.72 1.47 1.35L5.41 20z\"/>\n",
              "  </svg>\n",
              "      </button>\n",
              "      \n",
              "  <style>\n",
              "    .colab-df-container {\n",
              "      display:flex;\n",
              "      flex-wrap:wrap;\n",
              "      gap: 12px;\n",
              "    }\n",
              "\n",
              "    .colab-df-convert {\n",
              "      background-color: #E8F0FE;\n",
              "      border: none;\n",
              "      border-radius: 50%;\n",
              "      cursor: pointer;\n",
              "      display: none;\n",
              "      fill: #1967D2;\n",
              "      height: 32px;\n",
              "      padding: 0 0 0 0;\n",
              "      width: 32px;\n",
              "    }\n",
              "\n",
              "    .colab-df-convert:hover {\n",
              "      background-color: #E2EBFA;\n",
              "      box-shadow: 0px 1px 2px rgba(60, 64, 67, 0.3), 0px 1px 3px 1px rgba(60, 64, 67, 0.15);\n",
              "      fill: #174EA6;\n",
              "    }\n",
              "\n",
              "    [theme=dark] .colab-df-convert {\n",
              "      background-color: #3B4455;\n",
              "      fill: #D2E3FC;\n",
              "    }\n",
              "\n",
              "    [theme=dark] .colab-df-convert:hover {\n",
              "      background-color: #434B5C;\n",
              "      box-shadow: 0px 1px 3px 1px rgba(0, 0, 0, 0.15);\n",
              "      filter: drop-shadow(0px 1px 2px rgba(0, 0, 0, 0.3));\n",
              "      fill: #FFFFFF;\n",
              "    }\n",
              "  </style>\n",
              "\n",
              "      <script>\n",
              "        const buttonEl =\n",
              "          document.querySelector('#df-3e9883d3-d1a1-43c8-8073-757c03f8a48f button.colab-df-convert');\n",
              "        buttonEl.style.display =\n",
              "          google.colab.kernel.accessAllowed ? 'block' : 'none';\n",
              "\n",
              "        async function convertToInteractive(key) {\n",
              "          const element = document.querySelector('#df-3e9883d3-d1a1-43c8-8073-757c03f8a48f');\n",
              "          const dataTable =\n",
              "            await google.colab.kernel.invokeFunction('convertToInteractive',\n",
              "                                                     [key], {});\n",
              "          if (!dataTable) return;\n",
              "\n",
              "          const docLinkHtml = 'Like what you see? Visit the ' +\n",
              "            '<a target=\"_blank\" href=https://colab.research.google.com/notebooks/data_table.ipynb>data table notebook</a>'\n",
              "            + ' to learn more about interactive tables.';\n",
              "          element.innerHTML = '';\n",
              "          dataTable['output_type'] = 'display_data';\n",
              "          await google.colab.output.renderOutput(dataTable, element);\n",
              "          const docLink = document.createElement('div');\n",
              "          docLink.innerHTML = docLinkHtml;\n",
              "          element.appendChild(docLink);\n",
              "        }\n",
              "      </script>\n",
              "    </div>\n",
              "  </div>\n",
              "  "
            ]
          },
          "metadata": {},
          "execution_count": 123
        }
      ]
    },
    {
      "cell_type": "markdown",
      "source": [
        "#Preparing test data for modelling"
      ],
      "metadata": {
        "id": "lT5Vs0_E_odX"
      }
    },
    {
      "cell_type": "code",
      "source": [
        "test_data.head()"
      ],
      "metadata": {
        "colab": {
          "base_uri": "https://localhost:8080/",
          "height": 0
        },
        "id": "-4OrfzyP_tSM",
        "outputId": "633b4f35-e7a3-4bf0-ce45-db11062ea7a9"
      },
      "execution_count": 124,
      "outputs": [
        {
          "output_type": "execute_result",
          "data": {
            "text/plain": [
              "    CustomerID   Age  Gender          City is_Married  family_size  height  \\\n",
              "0  CusID_30000  32.0  Female         Delhi    Married          6.0   142.0   \n",
              "1  CusID_30001  22.0    Male         Perth   Divorced          4.0   155.0   \n",
              "2  CusID_30002  46.0  Female     Barcelona    Married          2.0     NaN   \n",
              "3  CusID_30003  35.0     NaN  Kuala Lampur     Single          1.0   137.0   \n",
              "4  CusID_30004  48.0    Male        Sydney    Married          3.0   162.0   \n",
              "\n",
              "   annual_income       job is_physically_ok has_taken_car_loan  \\\n",
              "0       150800.0   Service              Yes                 No   \n",
              "1       167000.0   Service              Yes                 No   \n",
              "2        66000.0   Service              Yes                 No   \n",
              "3        71820.0  Business              Yes                NaN   \n",
              "4         6500.0   Service              Yes                Yes   \n",
              "\n",
              "  preferable_fuel_choice  \n",
              "0                 Diesel  \n",
              "1                 Petrol  \n",
              "2                 Petrol  \n",
              "3                 Petrol  \n",
              "4                 Hybrid  "
            ],
            "text/html": [
              "\n",
              "  <div id=\"df-a62ca6d6-939d-4dda-b163-597c24103ac5\">\n",
              "    <div class=\"colab-df-container\">\n",
              "      <div>\n",
              "<style scoped>\n",
              "    .dataframe tbody tr th:only-of-type {\n",
              "        vertical-align: middle;\n",
              "    }\n",
              "\n",
              "    .dataframe tbody tr th {\n",
              "        vertical-align: top;\n",
              "    }\n",
              "\n",
              "    .dataframe thead th {\n",
              "        text-align: right;\n",
              "    }\n",
              "</style>\n",
              "<table border=\"1\" class=\"dataframe\">\n",
              "  <thead>\n",
              "    <tr style=\"text-align: right;\">\n",
              "      <th></th>\n",
              "      <th>CustomerID</th>\n",
              "      <th>Age</th>\n",
              "      <th>Gender</th>\n",
              "      <th>City</th>\n",
              "      <th>is_Married</th>\n",
              "      <th>family_size</th>\n",
              "      <th>height</th>\n",
              "      <th>annual_income</th>\n",
              "      <th>job</th>\n",
              "      <th>is_physically_ok</th>\n",
              "      <th>has_taken_car_loan</th>\n",
              "      <th>preferable_fuel_choice</th>\n",
              "    </tr>\n",
              "  </thead>\n",
              "  <tbody>\n",
              "    <tr>\n",
              "      <th>0</th>\n",
              "      <td>CusID_30000</td>\n",
              "      <td>32.0</td>\n",
              "      <td>Female</td>\n",
              "      <td>Delhi</td>\n",
              "      <td>Married</td>\n",
              "      <td>6.0</td>\n",
              "      <td>142.0</td>\n",
              "      <td>150800.0</td>\n",
              "      <td>Service</td>\n",
              "      <td>Yes</td>\n",
              "      <td>No</td>\n",
              "      <td>Diesel</td>\n",
              "    </tr>\n",
              "    <tr>\n",
              "      <th>1</th>\n",
              "      <td>CusID_30001</td>\n",
              "      <td>22.0</td>\n",
              "      <td>Male</td>\n",
              "      <td>Perth</td>\n",
              "      <td>Divorced</td>\n",
              "      <td>4.0</td>\n",
              "      <td>155.0</td>\n",
              "      <td>167000.0</td>\n",
              "      <td>Service</td>\n",
              "      <td>Yes</td>\n",
              "      <td>No</td>\n",
              "      <td>Petrol</td>\n",
              "    </tr>\n",
              "    <tr>\n",
              "      <th>2</th>\n",
              "      <td>CusID_30002</td>\n",
              "      <td>46.0</td>\n",
              "      <td>Female</td>\n",
              "      <td>Barcelona</td>\n",
              "      <td>Married</td>\n",
              "      <td>2.0</td>\n",
              "      <td>NaN</td>\n",
              "      <td>66000.0</td>\n",
              "      <td>Service</td>\n",
              "      <td>Yes</td>\n",
              "      <td>No</td>\n",
              "      <td>Petrol</td>\n",
              "    </tr>\n",
              "    <tr>\n",
              "      <th>3</th>\n",
              "      <td>CusID_30003</td>\n",
              "      <td>35.0</td>\n",
              "      <td>NaN</td>\n",
              "      <td>Kuala Lampur</td>\n",
              "      <td>Single</td>\n",
              "      <td>1.0</td>\n",
              "      <td>137.0</td>\n",
              "      <td>71820.0</td>\n",
              "      <td>Business</td>\n",
              "      <td>Yes</td>\n",
              "      <td>NaN</td>\n",
              "      <td>Petrol</td>\n",
              "    </tr>\n",
              "    <tr>\n",
              "      <th>4</th>\n",
              "      <td>CusID_30004</td>\n",
              "      <td>48.0</td>\n",
              "      <td>Male</td>\n",
              "      <td>Sydney</td>\n",
              "      <td>Married</td>\n",
              "      <td>3.0</td>\n",
              "      <td>162.0</td>\n",
              "      <td>6500.0</td>\n",
              "      <td>Service</td>\n",
              "      <td>Yes</td>\n",
              "      <td>Yes</td>\n",
              "      <td>Hybrid</td>\n",
              "    </tr>\n",
              "  </tbody>\n",
              "</table>\n",
              "</div>\n",
              "      <button class=\"colab-df-convert\" onclick=\"convertToInteractive('df-a62ca6d6-939d-4dda-b163-597c24103ac5')\"\n",
              "              title=\"Convert this dataframe to an interactive table.\"\n",
              "              style=\"display:none;\">\n",
              "        \n",
              "  <svg xmlns=\"http://www.w3.org/2000/svg\" height=\"24px\"viewBox=\"0 0 24 24\"\n",
              "       width=\"24px\">\n",
              "    <path d=\"M0 0h24v24H0V0z\" fill=\"none\"/>\n",
              "    <path d=\"M18.56 5.44l.94 2.06.94-2.06 2.06-.94-2.06-.94-.94-2.06-.94 2.06-2.06.94zm-11 1L8.5 8.5l.94-2.06 2.06-.94-2.06-.94L8.5 2.5l-.94 2.06-2.06.94zm10 10l.94 2.06.94-2.06 2.06-.94-2.06-.94-.94-2.06-.94 2.06-2.06.94z\"/><path d=\"M17.41 7.96l-1.37-1.37c-.4-.4-.92-.59-1.43-.59-.52 0-1.04.2-1.43.59L10.3 9.45l-7.72 7.72c-.78.78-.78 2.05 0 2.83L4 21.41c.39.39.9.59 1.41.59.51 0 1.02-.2 1.41-.59l7.78-7.78 2.81-2.81c.8-.78.8-2.07 0-2.86zM5.41 20L4 18.59l7.72-7.72 1.47 1.35L5.41 20z\"/>\n",
              "  </svg>\n",
              "      </button>\n",
              "      \n",
              "  <style>\n",
              "    .colab-df-container {\n",
              "      display:flex;\n",
              "      flex-wrap:wrap;\n",
              "      gap: 12px;\n",
              "    }\n",
              "\n",
              "    .colab-df-convert {\n",
              "      background-color: #E8F0FE;\n",
              "      border: none;\n",
              "      border-radius: 50%;\n",
              "      cursor: pointer;\n",
              "      display: none;\n",
              "      fill: #1967D2;\n",
              "      height: 32px;\n",
              "      padding: 0 0 0 0;\n",
              "      width: 32px;\n",
              "    }\n",
              "\n",
              "    .colab-df-convert:hover {\n",
              "      background-color: #E2EBFA;\n",
              "      box-shadow: 0px 1px 2px rgba(60, 64, 67, 0.3), 0px 1px 3px 1px rgba(60, 64, 67, 0.15);\n",
              "      fill: #174EA6;\n",
              "    }\n",
              "\n",
              "    [theme=dark] .colab-df-convert {\n",
              "      background-color: #3B4455;\n",
              "      fill: #D2E3FC;\n",
              "    }\n",
              "\n",
              "    [theme=dark] .colab-df-convert:hover {\n",
              "      background-color: #434B5C;\n",
              "      box-shadow: 0px 1px 3px 1px rgba(0, 0, 0, 0.15);\n",
              "      filter: drop-shadow(0px 1px 2px rgba(0, 0, 0, 0.3));\n",
              "      fill: #FFFFFF;\n",
              "    }\n",
              "  </style>\n",
              "\n",
              "      <script>\n",
              "        const buttonEl =\n",
              "          document.querySelector('#df-a62ca6d6-939d-4dda-b163-597c24103ac5 button.colab-df-convert');\n",
              "        buttonEl.style.display =\n",
              "          google.colab.kernel.accessAllowed ? 'block' : 'none';\n",
              "\n",
              "        async function convertToInteractive(key) {\n",
              "          const element = document.querySelector('#df-a62ca6d6-939d-4dda-b163-597c24103ac5');\n",
              "          const dataTable =\n",
              "            await google.colab.kernel.invokeFunction('convertToInteractive',\n",
              "                                                     [key], {});\n",
              "          if (!dataTable) return;\n",
              "\n",
              "          const docLinkHtml = 'Like what you see? Visit the ' +\n",
              "            '<a target=\"_blank\" href=https://colab.research.google.com/notebooks/data_table.ipynb>data table notebook</a>'\n",
              "            + ' to learn more about interactive tables.';\n",
              "          element.innerHTML = '';\n",
              "          dataTable['output_type'] = 'display_data';\n",
              "          await google.colab.output.renderOutput(dataTable, element);\n",
              "          const docLink = document.createElement('div');\n",
              "          docLink.innerHTML = docLinkHtml;\n",
              "          element.appendChild(docLink);\n",
              "        }\n",
              "      </script>\n",
              "    </div>\n",
              "  </div>\n",
              "  "
            ]
          },
          "metadata": {},
          "execution_count": 124
        }
      ]
    },
    {
      "cell_type": "code",
      "source": [
        "test_data.Gender.unique()"
      ],
      "metadata": {
        "colab": {
          "base_uri": "https://localhost:8080/"
        },
        "id": "92gmCPw8N5I0",
        "outputId": "7c4fc7c1-5a6d-49c1-cb2f-f0c9000b3128"
      },
      "execution_count": 125,
      "outputs": [
        {
          "output_type": "execute_result",
          "data": {
            "text/plain": [
              "array(['Female', 'Male', nan, 'Not_Specified', 'EV%N?', 'N%E#G'],\n",
              "      dtype=object)"
            ]
          },
          "metadata": {},
          "execution_count": 125
        }
      ]
    },
    {
      "cell_type": "code",
      "source": [
        "test_data['Gender']=test_data.Gender.replace({'EV%N?', 'N%E#G'}, np.NaN)\n",
        "test_data.Gender.unique()"
      ],
      "metadata": {
        "colab": {
          "base_uri": "https://localhost:8080/"
        },
        "id": "rLh8DjWuN5FI",
        "outputId": "135e3ed0-0270-4824-b30c-9d75fb30b6e5"
      },
      "execution_count": 126,
      "outputs": [
        {
          "output_type": "execute_result",
          "data": {
            "text/plain": [
              "array(['Female', 'Male', nan, 'Not_Specified'], dtype=object)"
            ]
          },
          "metadata": {},
          "execution_count": 126
        }
      ]
    },
    {
      "cell_type": "code",
      "source": [
        "test_data.City.unique()"
      ],
      "metadata": {
        "colab": {
          "base_uri": "https://localhost:8080/"
        },
        "id": "RSOSJoVLN5C2",
        "outputId": "a2b0c050-b712-44c1-e66a-45641c17671e"
      },
      "execution_count": 127,
      "outputs": [
        {
          "output_type": "execute_result",
          "data": {
            "text/plain": [
              "array(['Delhi', 'Perth', 'Barcelona', 'Kuala Lampur', 'Sydney',\n",
              "       'Vancouver', 'New York City', 'Kolkata', 'Florence', 'Mumbai',\n",
              "       'Chennai', 'Toronto', 'Budapest', 'Taipei', 'Vienna',\n",
              "       'San Francisco', 'Los Angeles', 'Shinjuku', 'London', 'Berlin',\n",
              "       'Paris', 'Munich', nan, '%?ACE'], dtype=object)"
            ]
          },
          "metadata": {},
          "execution_count": 127
        }
      ]
    },
    {
      "cell_type": "code",
      "source": [
        "test_data['City']=test_data.City.replace({'%?ACE'}, np.NaN)\n",
        "test_data.City.unique()"
      ],
      "metadata": {
        "colab": {
          "base_uri": "https://localhost:8080/"
        },
        "id": "3z1jbvPpN4_1",
        "outputId": "6914843c-a2a1-4cbc-c460-2838a83333de"
      },
      "execution_count": 128,
      "outputs": [
        {
          "output_type": "execute_result",
          "data": {
            "text/plain": [
              "array(['Delhi', 'Perth', 'Barcelona', 'Kuala Lampur', 'Sydney',\n",
              "       'Vancouver', 'New York City', 'Kolkata', 'Florence', 'Mumbai',\n",
              "       'Chennai', 'Toronto', 'Budapest', 'Taipei', 'Vienna',\n",
              "       'San Francisco', 'Los Angeles', 'Shinjuku', 'London', 'Berlin',\n",
              "       'Paris', 'Munich', nan], dtype=object)"
            ]
          },
          "metadata": {},
          "execution_count": 128
        }
      ]
    },
    {
      "cell_type": "code",
      "source": [
        "test_data.is_physically_ok.unique()"
      ],
      "metadata": {
        "colab": {
          "base_uri": "https://localhost:8080/"
        },
        "id": "IZPIozAqN49p",
        "outputId": "11b126bc-4a80-4931-d2b5-aa4339c7e8ea"
      },
      "execution_count": 129,
      "outputs": [
        {
          "output_type": "execute_result",
          "data": {
            "text/plain": [
              "array(['Yes', 'No', nan, 'K%#MY'], dtype=object)"
            ]
          },
          "metadata": {},
          "execution_count": 129
        }
      ]
    },
    {
      "cell_type": "code",
      "source": [
        "test_data['is_physically_ok']=test_data.is_physically_ok.replace({'K%#MY'}, np.NaN)\n",
        "test_data.is_physically_ok.unique()"
      ],
      "metadata": {
        "colab": {
          "base_uri": "https://localhost:8080/"
        },
        "id": "Plz6zmZqO-B9",
        "outputId": "e016a946-891a-4f70-97ff-9106d64508ff"
      },
      "execution_count": 130,
      "outputs": [
        {
          "output_type": "execute_result",
          "data": {
            "text/plain": [
              "array(['Yes', 'No', nan], dtype=object)"
            ]
          },
          "metadata": {},
          "execution_count": 130
        }
      ]
    },
    {
      "cell_type": "code",
      "source": [
        "test_data.has_taken_car_loan.unique()"
      ],
      "metadata": {
        "colab": {
          "base_uri": "https://localhost:8080/"
        },
        "id": "eeo2SVq4PGRz",
        "outputId": "516df6b1-a54b-478f-aa2c-b2380dab34cb"
      },
      "execution_count": 131,
      "outputs": [
        {
          "output_type": "execute_result",
          "data": {
            "text/plain": [
              "array(['No', nan, 'Yes', 'U#@DX', 'DG?#H'], dtype=object)"
            ]
          },
          "metadata": {},
          "execution_count": 131
        }
      ]
    },
    {
      "cell_type": "code",
      "source": [
        "test_data['has_taken_car_loan']=test_data.has_taken_car_loan.replace({'U#@DX', 'DG?#H'}, np.NaN)\n",
        "test_data.has_taken_car_loan.unique()"
      ],
      "metadata": {
        "colab": {
          "base_uri": "https://localhost:8080/"
        },
        "id": "i4GnsmaGPVzx",
        "outputId": "7638e451-7b52-49bc-e261-9e180287e8c9"
      },
      "execution_count": 132,
      "outputs": [
        {
          "output_type": "execute_result",
          "data": {
            "text/plain": [
              "array(['No', nan, 'Yes'], dtype=object)"
            ]
          },
          "metadata": {},
          "execution_count": 132
        }
      ]
    },
    {
      "cell_type": "code",
      "source": [
        "test_data.preferable_fuel_choice.unique()"
      ],
      "metadata": {
        "colab": {
          "base_uri": "https://localhost:8080/"
        },
        "id": "S8eGNjcfPOSE",
        "outputId": "93e89e7b-eff3-4528-b065-609002218db7"
      },
      "execution_count": 133,
      "outputs": [
        {
          "output_type": "execute_result",
          "data": {
            "text/plain": [
              "array(['Diesel', 'Petrol', 'Hybrid', 'EV', nan, 'FC?P%'], dtype=object)"
            ]
          },
          "metadata": {},
          "execution_count": 133
        }
      ]
    },
    {
      "cell_type": "code",
      "source": [
        "test_data['preferable_fuel_choice']=test_data.preferable_fuel_choice.replace({'FC?P%'}, np.NaN)\n",
        "test_data.preferable_fuel_choice.unique()"
      ],
      "metadata": {
        "colab": {
          "base_uri": "https://localhost:8080/"
        },
        "id": "Hcr0dJ_UPW0G",
        "outputId": "913cb29a-b2ec-45c0-a0af-b8878f208558"
      },
      "execution_count": 134,
      "outputs": [
        {
          "output_type": "execute_result",
          "data": {
            "text/plain": [
              "array(['Diesel', 'Petrol', 'Hybrid', 'EV', nan], dtype=object)"
            ]
          },
          "metadata": {},
          "execution_count": 134
        }
      ]
    },
    {
      "cell_type": "code",
      "source": [
        "test_data.isna().sum()"
      ],
      "metadata": {
        "colab": {
          "base_uri": "https://localhost:8080/"
        },
        "id": "ajWB3vMO_tOk",
        "outputId": "a7e1b049-48cd-420c-8074-b061242fe3c7"
      },
      "execution_count": 135,
      "outputs": [
        {
          "output_type": "execute_result",
          "data": {
            "text/plain": [
              "CustomerID                 0\n",
              "Age                       67\n",
              "Gender                    83\n",
              "City                      73\n",
              "is_Married                85\n",
              "family_size               73\n",
              "height                    67\n",
              "annual_income             78\n",
              "job                       74\n",
              "is_physically_ok          67\n",
              "has_taken_car_loan        63\n",
              "preferable_fuel_choice    84\n",
              "dtype: int64"
            ]
          },
          "metadata": {},
          "execution_count": 135
        }
      ]
    },
    {
      "cell_type": "code",
      "source": [
        "a = ['Age', 'annual_income', 'family_size', 'height']\n",
        "for i in a:\n",
        "  test_data[i] = test_data[i].fillna(test_data[i].median())"
      ],
      "metadata": {
        "id": "zos7AsUp_tL4"
      },
      "execution_count": 136,
      "outputs": []
    },
    {
      "cell_type": "code",
      "source": [
        "b = ['Gender', 'City','is_Married', 'job', 'is_physically_ok', 'has_taken_car_loan', 'preferable_fuel_choice']\n",
        "for i in b:\n",
        "  test_data[i] = test_data[i].fillna(test_data[i].mode()[0])"
      ],
      "metadata": {
        "id": "FX_cm5y2_tJn"
      },
      "execution_count": 137,
      "outputs": []
    },
    {
      "cell_type": "code",
      "source": [
        "test_data.isna().sum()"
      ],
      "metadata": {
        "colab": {
          "base_uri": "https://localhost:8080/"
        },
        "id": "1bzXQmSuBrmC",
        "outputId": "40549fa8-142f-4e65-8952-807cf3e7f1a9"
      },
      "execution_count": 138,
      "outputs": [
        {
          "output_type": "execute_result",
          "data": {
            "text/plain": [
              "CustomerID                0\n",
              "Age                       0\n",
              "Gender                    0\n",
              "City                      0\n",
              "is_Married                0\n",
              "family_size               0\n",
              "height                    0\n",
              "annual_income             0\n",
              "job                       0\n",
              "is_physically_ok          0\n",
              "has_taken_car_loan        0\n",
              "preferable_fuel_choice    0\n",
              "dtype: int64"
            ]
          },
          "metadata": {},
          "execution_count": 138
        }
      ]
    },
    {
      "cell_type": "code",
      "source": [
        "le = LabelEncoder()\n",
        "test_data['City'] = le.fit_transform(test_data['City'])\n",
        "mapping = dict(zip(le.classes_, le.transform(le.classes_)))\n",
        "print(mapping)"
      ],
      "metadata": {
        "colab": {
          "base_uri": "https://localhost:8080/"
        },
        "id": "Px0kJPcvBzJS",
        "outputId": "4f0ad284-8627-4069-eb71-0b895ea64ba5"
      },
      "execution_count": 139,
      "outputs": [
        {
          "output_type": "stream",
          "name": "stdout",
          "text": [
            "{'Barcelona': 0, 'Berlin': 1, 'Budapest': 2, 'Chennai': 3, 'Delhi': 4, 'Florence': 5, 'Kolkata': 6, 'Kuala Lampur': 7, 'London': 8, 'Los Angeles': 9, 'Mumbai': 10, 'Munich': 11, 'New York City': 12, 'Paris': 13, 'Perth': 14, 'San Francisco': 15, 'Shinjuku': 16, 'Sydney': 17, 'Taipei': 18, 'Toronto': 19, 'Vancouver': 20, 'Vienna': 21}\n"
          ]
        }
      ]
    },
    {
      "cell_type": "code",
      "source": [
        "test_data1 = pd.get_dummies(test_data[['Age', 'Gender','is_Married','job', 'is_physically_ok',\n",
        "       'has_taken_car_loan', 'preferable_fuel_choice']])"
      ],
      "metadata": {
        "id": "rRhkA4YyB7dG"
      },
      "execution_count": 140,
      "outputs": []
    },
    {
      "cell_type": "code",
      "source": [
        "test_data = pd.concat([test_data['CustomerID'], test_data1, test_data['City']], axis=1)"
      ],
      "metadata": {
        "id": "iIf4f89iJ7Rq"
      },
      "execution_count": 141,
      "outputs": []
    },
    {
      "cell_type": "code",
      "source": [
        "test_data.head()"
      ],
      "metadata": {
        "colab": {
          "base_uri": "https://localhost:8080/",
          "height": 0
        },
        "id": "J3RyRLBKCEqv",
        "outputId": "f56dfe5c-5657-4c2b-a12c-5197383f7873"
      },
      "execution_count": 142,
      "outputs": [
        {
          "output_type": "execute_result",
          "data": {
            "text/plain": [
              "    CustomerID   Age  Gender_Female  Gender_Male  Gender_Not_Specified  \\\n",
              "0  CusID_30000  32.0              1            0                     0   \n",
              "1  CusID_30001  22.0              0            1                     0   \n",
              "2  CusID_30002  46.0              1            0                     0   \n",
              "3  CusID_30003  35.0              1            0                     0   \n",
              "4  CusID_30004  48.0              0            1                     0   \n",
              "\n",
              "   is_Married_Divorced  is_Married_Married  is_Married_Single  job_Business  \\\n",
              "0                    0                   1                  0             0   \n",
              "1                    1                   0                  0             0   \n",
              "2                    0                   1                  0             0   \n",
              "3                    0                   0                  1             1   \n",
              "4                    0                   1                  0             0   \n",
              "\n",
              "   job_Service  ...  job_Undisclosed  is_physically_ok_No  \\\n",
              "0            1  ...                0                    0   \n",
              "1            1  ...                0                    0   \n",
              "2            1  ...                0                    0   \n",
              "3            0  ...                0                    0   \n",
              "4            1  ...                0                    0   \n",
              "\n",
              "   is_physically_ok_Yes  has_taken_car_loan_No  has_taken_car_loan_Yes  \\\n",
              "0                     1                      1                       0   \n",
              "1                     1                      1                       0   \n",
              "2                     1                      1                       0   \n",
              "3                     1                      1                       0   \n",
              "4                     1                      0                       1   \n",
              "\n",
              "   preferable_fuel_choice_Diesel  preferable_fuel_choice_EV  \\\n",
              "0                              1                          0   \n",
              "1                              0                          0   \n",
              "2                              0                          0   \n",
              "3                              0                          0   \n",
              "4                              0                          0   \n",
              "\n",
              "   preferable_fuel_choice_Hybrid  preferable_fuel_choice_Petrol  City  \n",
              "0                              0                              0     4  \n",
              "1                              0                              1    14  \n",
              "2                              0                              1     0  \n",
              "3                              0                              1     7  \n",
              "4                              1                              0    17  \n",
              "\n",
              "[5 rows x 21 columns]"
            ],
            "text/html": [
              "\n",
              "  <div id=\"df-22fe10b1-a981-4a53-b7cf-34cefa56e8a3\">\n",
              "    <div class=\"colab-df-container\">\n",
              "      <div>\n",
              "<style scoped>\n",
              "    .dataframe tbody tr th:only-of-type {\n",
              "        vertical-align: middle;\n",
              "    }\n",
              "\n",
              "    .dataframe tbody tr th {\n",
              "        vertical-align: top;\n",
              "    }\n",
              "\n",
              "    .dataframe thead th {\n",
              "        text-align: right;\n",
              "    }\n",
              "</style>\n",
              "<table border=\"1\" class=\"dataframe\">\n",
              "  <thead>\n",
              "    <tr style=\"text-align: right;\">\n",
              "      <th></th>\n",
              "      <th>CustomerID</th>\n",
              "      <th>Age</th>\n",
              "      <th>Gender_Female</th>\n",
              "      <th>Gender_Male</th>\n",
              "      <th>Gender_Not_Specified</th>\n",
              "      <th>is_Married_Divorced</th>\n",
              "      <th>is_Married_Married</th>\n",
              "      <th>is_Married_Single</th>\n",
              "      <th>job_Business</th>\n",
              "      <th>job_Service</th>\n",
              "      <th>...</th>\n",
              "      <th>job_Undisclosed</th>\n",
              "      <th>is_physically_ok_No</th>\n",
              "      <th>is_physically_ok_Yes</th>\n",
              "      <th>has_taken_car_loan_No</th>\n",
              "      <th>has_taken_car_loan_Yes</th>\n",
              "      <th>preferable_fuel_choice_Diesel</th>\n",
              "      <th>preferable_fuel_choice_EV</th>\n",
              "      <th>preferable_fuel_choice_Hybrid</th>\n",
              "      <th>preferable_fuel_choice_Petrol</th>\n",
              "      <th>City</th>\n",
              "    </tr>\n",
              "  </thead>\n",
              "  <tbody>\n",
              "    <tr>\n",
              "      <th>0</th>\n",
              "      <td>CusID_30000</td>\n",
              "      <td>32.0</td>\n",
              "      <td>1</td>\n",
              "      <td>0</td>\n",
              "      <td>0</td>\n",
              "      <td>0</td>\n",
              "      <td>1</td>\n",
              "      <td>0</td>\n",
              "      <td>0</td>\n",
              "      <td>1</td>\n",
              "      <td>...</td>\n",
              "      <td>0</td>\n",
              "      <td>0</td>\n",
              "      <td>1</td>\n",
              "      <td>1</td>\n",
              "      <td>0</td>\n",
              "      <td>1</td>\n",
              "      <td>0</td>\n",
              "      <td>0</td>\n",
              "      <td>0</td>\n",
              "      <td>4</td>\n",
              "    </tr>\n",
              "    <tr>\n",
              "      <th>1</th>\n",
              "      <td>CusID_30001</td>\n",
              "      <td>22.0</td>\n",
              "      <td>0</td>\n",
              "      <td>1</td>\n",
              "      <td>0</td>\n",
              "      <td>1</td>\n",
              "      <td>0</td>\n",
              "      <td>0</td>\n",
              "      <td>0</td>\n",
              "      <td>1</td>\n",
              "      <td>...</td>\n",
              "      <td>0</td>\n",
              "      <td>0</td>\n",
              "      <td>1</td>\n",
              "      <td>1</td>\n",
              "      <td>0</td>\n",
              "      <td>0</td>\n",
              "      <td>0</td>\n",
              "      <td>0</td>\n",
              "      <td>1</td>\n",
              "      <td>14</td>\n",
              "    </tr>\n",
              "    <tr>\n",
              "      <th>2</th>\n",
              "      <td>CusID_30002</td>\n",
              "      <td>46.0</td>\n",
              "      <td>1</td>\n",
              "      <td>0</td>\n",
              "      <td>0</td>\n",
              "      <td>0</td>\n",
              "      <td>1</td>\n",
              "      <td>0</td>\n",
              "      <td>0</td>\n",
              "      <td>1</td>\n",
              "      <td>...</td>\n",
              "      <td>0</td>\n",
              "      <td>0</td>\n",
              "      <td>1</td>\n",
              "      <td>1</td>\n",
              "      <td>0</td>\n",
              "      <td>0</td>\n",
              "      <td>0</td>\n",
              "      <td>0</td>\n",
              "      <td>1</td>\n",
              "      <td>0</td>\n",
              "    </tr>\n",
              "    <tr>\n",
              "      <th>3</th>\n",
              "      <td>CusID_30003</td>\n",
              "      <td>35.0</td>\n",
              "      <td>1</td>\n",
              "      <td>0</td>\n",
              "      <td>0</td>\n",
              "      <td>0</td>\n",
              "      <td>0</td>\n",
              "      <td>1</td>\n",
              "      <td>1</td>\n",
              "      <td>0</td>\n",
              "      <td>...</td>\n",
              "      <td>0</td>\n",
              "      <td>0</td>\n",
              "      <td>1</td>\n",
              "      <td>1</td>\n",
              "      <td>0</td>\n",
              "      <td>0</td>\n",
              "      <td>0</td>\n",
              "      <td>0</td>\n",
              "      <td>1</td>\n",
              "      <td>7</td>\n",
              "    </tr>\n",
              "    <tr>\n",
              "      <th>4</th>\n",
              "      <td>CusID_30004</td>\n",
              "      <td>48.0</td>\n",
              "      <td>0</td>\n",
              "      <td>1</td>\n",
              "      <td>0</td>\n",
              "      <td>0</td>\n",
              "      <td>1</td>\n",
              "      <td>0</td>\n",
              "      <td>0</td>\n",
              "      <td>1</td>\n",
              "      <td>...</td>\n",
              "      <td>0</td>\n",
              "      <td>0</td>\n",
              "      <td>1</td>\n",
              "      <td>0</td>\n",
              "      <td>1</td>\n",
              "      <td>0</td>\n",
              "      <td>0</td>\n",
              "      <td>1</td>\n",
              "      <td>0</td>\n",
              "      <td>17</td>\n",
              "    </tr>\n",
              "  </tbody>\n",
              "</table>\n",
              "<p>5 rows × 21 columns</p>\n",
              "</div>\n",
              "      <button class=\"colab-df-convert\" onclick=\"convertToInteractive('df-22fe10b1-a981-4a53-b7cf-34cefa56e8a3')\"\n",
              "              title=\"Convert this dataframe to an interactive table.\"\n",
              "              style=\"display:none;\">\n",
              "        \n",
              "  <svg xmlns=\"http://www.w3.org/2000/svg\" height=\"24px\"viewBox=\"0 0 24 24\"\n",
              "       width=\"24px\">\n",
              "    <path d=\"M0 0h24v24H0V0z\" fill=\"none\"/>\n",
              "    <path d=\"M18.56 5.44l.94 2.06.94-2.06 2.06-.94-2.06-.94-.94-2.06-.94 2.06-2.06.94zm-11 1L8.5 8.5l.94-2.06 2.06-.94-2.06-.94L8.5 2.5l-.94 2.06-2.06.94zm10 10l.94 2.06.94-2.06 2.06-.94-2.06-.94-.94-2.06-.94 2.06-2.06.94z\"/><path d=\"M17.41 7.96l-1.37-1.37c-.4-.4-.92-.59-1.43-.59-.52 0-1.04.2-1.43.59L10.3 9.45l-7.72 7.72c-.78.78-.78 2.05 0 2.83L4 21.41c.39.39.9.59 1.41.59.51 0 1.02-.2 1.41-.59l7.78-7.78 2.81-2.81c.8-.78.8-2.07 0-2.86zM5.41 20L4 18.59l7.72-7.72 1.47 1.35L5.41 20z\"/>\n",
              "  </svg>\n",
              "      </button>\n",
              "      \n",
              "  <style>\n",
              "    .colab-df-container {\n",
              "      display:flex;\n",
              "      flex-wrap:wrap;\n",
              "      gap: 12px;\n",
              "    }\n",
              "\n",
              "    .colab-df-convert {\n",
              "      background-color: #E8F0FE;\n",
              "      border: none;\n",
              "      border-radius: 50%;\n",
              "      cursor: pointer;\n",
              "      display: none;\n",
              "      fill: #1967D2;\n",
              "      height: 32px;\n",
              "      padding: 0 0 0 0;\n",
              "      width: 32px;\n",
              "    }\n",
              "\n",
              "    .colab-df-convert:hover {\n",
              "      background-color: #E2EBFA;\n",
              "      box-shadow: 0px 1px 2px rgba(60, 64, 67, 0.3), 0px 1px 3px 1px rgba(60, 64, 67, 0.15);\n",
              "      fill: #174EA6;\n",
              "    }\n",
              "\n",
              "    [theme=dark] .colab-df-convert {\n",
              "      background-color: #3B4455;\n",
              "      fill: #D2E3FC;\n",
              "    }\n",
              "\n",
              "    [theme=dark] .colab-df-convert:hover {\n",
              "      background-color: #434B5C;\n",
              "      box-shadow: 0px 1px 3px 1px rgba(0, 0, 0, 0.15);\n",
              "      filter: drop-shadow(0px 1px 2px rgba(0, 0, 0, 0.3));\n",
              "      fill: #FFFFFF;\n",
              "    }\n",
              "  </style>\n",
              "\n",
              "      <script>\n",
              "        const buttonEl =\n",
              "          document.querySelector('#df-22fe10b1-a981-4a53-b7cf-34cefa56e8a3 button.colab-df-convert');\n",
              "        buttonEl.style.display =\n",
              "          google.colab.kernel.accessAllowed ? 'block' : 'none';\n",
              "\n",
              "        async function convertToInteractive(key) {\n",
              "          const element = document.querySelector('#df-22fe10b1-a981-4a53-b7cf-34cefa56e8a3');\n",
              "          const dataTable =\n",
              "            await google.colab.kernel.invokeFunction('convertToInteractive',\n",
              "                                                     [key], {});\n",
              "          if (!dataTable) return;\n",
              "\n",
              "          const docLinkHtml = 'Like what you see? Visit the ' +\n",
              "            '<a target=\"_blank\" href=https://colab.research.google.com/notebooks/data_table.ipynb>data table notebook</a>'\n",
              "            + ' to learn more about interactive tables.';\n",
              "          element.innerHTML = '';\n",
              "          dataTable['output_type'] = 'display_data';\n",
              "          await google.colab.output.renderOutput(dataTable, element);\n",
              "          const docLink = document.createElement('div');\n",
              "          docLink.innerHTML = docLinkHtml;\n",
              "          element.appendChild(docLink);\n",
              "        }\n",
              "      </script>\n",
              "    </div>\n",
              "  </div>\n",
              "  "
            ]
          },
          "metadata": {},
          "execution_count": 142
        }
      ]
    },
    {
      "cell_type": "markdown",
      "source": [
        "#Modelling"
      ],
      "metadata": {
        "id": "9Ze38va7_d5_"
      }
    },
    {
      "cell_type": "code",
      "source": [
        "train_data.columns"
      ],
      "metadata": {
        "colab": {
          "base_uri": "https://localhost:8080/"
        },
        "id": "Pcvk0TB0CjKP",
        "outputId": "c1c72cb0-b0fd-4339-c1f4-2a65210efe71"
      },
      "execution_count": 143,
      "outputs": [
        {
          "output_type": "execute_result",
          "data": {
            "text/plain": [
              "Index(['CustomerID', 'Age', 'Gender_Female', 'Gender_Male',\n",
              "       'Gender_Not_Specified', 'is_Married_Divorced', 'is_Married_Married',\n",
              "       'is_Married_Single', 'job_Business', 'job_Service', 'job_Student',\n",
              "       'job_Undisclosed', 'is_physically_ok_No', 'is_physically_ok_Yes',\n",
              "       'has_taken_car_loan_No', 'has_taken_car_loan_Yes',\n",
              "       'preferable_fuel_choice_Diesel', 'preferable_fuel_choice_EV',\n",
              "       'preferable_fuel_choice_Hybrid', 'preferable_fuel_choice_Petrol',\n",
              "       'City', 'vehicle_choice'],\n",
              "      dtype='object')"
            ]
          },
          "metadata": {},
          "execution_count": 143
        }
      ]
    },
    {
      "cell_type": "code",
      "source": [
        "x = train_data[['Age', 'Gender_Female', 'Gender_Male', 'Gender_Not_Specified',\n",
        "       'is_Married_Divorced', 'is_Married_Married', 'is_Married_Single',\n",
        "       'job_Business', 'job_Service', 'job_Student', 'job_Undisclosed',\n",
        "       'is_physically_ok_No', 'is_physically_ok_Yes', 'has_taken_car_loan_No',\n",
        "       'has_taken_car_loan_Yes', 'preferable_fuel_choice_Diesel',\n",
        "       'preferable_fuel_choice_EV', 'preferable_fuel_choice_Hybrid',\n",
        "       'preferable_fuel_choice_Petrol', 'City']]\n",
        "y = train_data['vehicle_choice']"
      ],
      "metadata": {
        "id": "vh7pe_kL_a9G"
      },
      "execution_count": 144,
      "outputs": []
    },
    {
      "cell_type": "code",
      "source": [
        "x_train, x_test, y_train, y_test = train_test_split(x, y,test_size=0.25, random_state = 42)"
      ],
      "metadata": {
        "id": "aPqHUiK7ENH6"
      },
      "execution_count": 145,
      "outputs": []
    },
    {
      "cell_type": "markdown",
      "source": [
        "**RandomForestClassifier**\n"
      ],
      "metadata": {
        "id": "Afhsjs2dMwJ5"
      }
    },
    {
      "cell_type": "code",
      "source": [
        "rf_cl = RandomForestClassifier()\n",
        "rf_cl.fit(x_train,y_train)\n",
        "y_pred = rf_cl.predict(x_test)\n",
        "\n",
        "f1_score(y_test,y_pred, average='weighted')"
      ],
      "metadata": {
        "colab": {
          "base_uri": "https://localhost:8080/"
        },
        "id": "Gp7_DimOLYnh",
        "outputId": "e7078ebc-e246-4842-866d-01b966ab92f3"
      },
      "execution_count": 146,
      "outputs": [
        {
          "output_type": "execute_result",
          "data": {
            "text/plain": [
              "0.5309451945365757"
            ]
          },
          "metadata": {},
          "execution_count": 146
        }
      ]
    },
    {
      "cell_type": "markdown",
      "source": [
        "**prediction of the test data**"
      ],
      "metadata": {
        "id": "CHJMCOmKMz8i"
      }
    },
    {
      "cell_type": "code",
      "source": [
        "x.shape"
      ],
      "metadata": {
        "colab": {
          "base_uri": "https://localhost:8080/"
        },
        "id": "GX3f-3fXNlUy",
        "outputId": "4b06054c-135a-4e83-aaa2-c30d50001c4b"
      },
      "execution_count": 147,
      "outputs": [
        {
          "output_type": "execute_result",
          "data": {
            "text/plain": [
              "(24586, 20)"
            ]
          },
          "metadata": {},
          "execution_count": 147
        }
      ]
    },
    {
      "cell_type": "code",
      "source": [
        "test_data.shape"
      ],
      "metadata": {
        "colab": {
          "base_uri": "https://localhost:8080/"
        },
        "id": "XYyLw966NqQG",
        "outputId": "29e5dfc0-b67d-4ba3-e73f-670182d2b7e4"
      },
      "execution_count": 148,
      "outputs": [
        {
          "output_type": "execute_result",
          "data": {
            "text/plain": [
              "(5000, 21)"
            ]
          },
          "metadata": {},
          "execution_count": 148
        }
      ]
    },
    {
      "cell_type": "code",
      "source": [
        "vehicle_choice = rf_cl.predict(test_data.drop('CustomerID', axis=1))"
      ],
      "metadata": {
        "id": "DWkatF1QM48U"
      },
      "execution_count": 149,
      "outputs": []
    },
    {
      "cell_type": "code",
      "source": [
        "vehicle_choice"
      ],
      "metadata": {
        "colab": {
          "base_uri": "https://localhost:8080/"
        },
        "id": "iGdoBHD1NU3o",
        "outputId": "0300c61d-1a61-49b6-fe1b-f6e69c666cd3"
      },
      "execution_count": 150,
      "outputs": [
        {
          "output_type": "execute_result",
          "data": {
            "text/plain": [
              "array([13,  7, 13, ..., 13,  1,  1])"
            ]
          },
          "metadata": {},
          "execution_count": 150
        }
      ]
    },
    {
      "cell_type": "markdown",
      "source": [
        "**Test data with the target column predicted**"
      ],
      "metadata": {
        "id": "XBl4jmoVRPPa"
      }
    },
    {
      "cell_type": "code",
      "source": [
        "test_data['vehicle_choice'] = vehicle_choice\n",
        "test_data.head()"
      ],
      "metadata": {
        "colab": {
          "base_uri": "https://localhost:8080/",
          "height": 299
        },
        "id": "OHMBp-IAPzA8",
        "outputId": "7dc3493f-31bc-42e0-8ffe-e69a294725e2"
      },
      "execution_count": 151,
      "outputs": [
        {
          "output_type": "execute_result",
          "data": {
            "text/plain": [
              "    CustomerID   Age  Gender_Female  Gender_Male  Gender_Not_Specified  \\\n",
              "0  CusID_30000  32.0              1            0                     0   \n",
              "1  CusID_30001  22.0              0            1                     0   \n",
              "2  CusID_30002  46.0              1            0                     0   \n",
              "3  CusID_30003  35.0              1            0                     0   \n",
              "4  CusID_30004  48.0              0            1                     0   \n",
              "\n",
              "   is_Married_Divorced  is_Married_Married  is_Married_Single  job_Business  \\\n",
              "0                    0                   1                  0             0   \n",
              "1                    1                   0                  0             0   \n",
              "2                    0                   1                  0             0   \n",
              "3                    0                   0                  1             1   \n",
              "4                    0                   1                  0             0   \n",
              "\n",
              "   job_Service  ...  is_physically_ok_No  is_physically_ok_Yes  \\\n",
              "0            1  ...                    0                     1   \n",
              "1            1  ...                    0                     1   \n",
              "2            1  ...                    0                     1   \n",
              "3            0  ...                    0                     1   \n",
              "4            1  ...                    0                     1   \n",
              "\n",
              "   has_taken_car_loan_No  has_taken_car_loan_Yes  \\\n",
              "0                      1                       0   \n",
              "1                      1                       0   \n",
              "2                      1                       0   \n",
              "3                      1                       0   \n",
              "4                      0                       1   \n",
              "\n",
              "   preferable_fuel_choice_Diesel  preferable_fuel_choice_EV  \\\n",
              "0                              1                          0   \n",
              "1                              0                          0   \n",
              "2                              0                          0   \n",
              "3                              0                          0   \n",
              "4                              0                          0   \n",
              "\n",
              "   preferable_fuel_choice_Hybrid  preferable_fuel_choice_Petrol  City  \\\n",
              "0                              0                              0     4   \n",
              "1                              0                              1    14   \n",
              "2                              0                              1     0   \n",
              "3                              0                              1     7   \n",
              "4                              1                              0    17   \n",
              "\n",
              "   vehicle_choice  \n",
              "0              13  \n",
              "1               7  \n",
              "2              13  \n",
              "3               2  \n",
              "4               0  \n",
              "\n",
              "[5 rows x 22 columns]"
            ],
            "text/html": [
              "\n",
              "  <div id=\"df-46721154-1096-4abb-915c-59008f8de509\">\n",
              "    <div class=\"colab-df-container\">\n",
              "      <div>\n",
              "<style scoped>\n",
              "    .dataframe tbody tr th:only-of-type {\n",
              "        vertical-align: middle;\n",
              "    }\n",
              "\n",
              "    .dataframe tbody tr th {\n",
              "        vertical-align: top;\n",
              "    }\n",
              "\n",
              "    .dataframe thead th {\n",
              "        text-align: right;\n",
              "    }\n",
              "</style>\n",
              "<table border=\"1\" class=\"dataframe\">\n",
              "  <thead>\n",
              "    <tr style=\"text-align: right;\">\n",
              "      <th></th>\n",
              "      <th>CustomerID</th>\n",
              "      <th>Age</th>\n",
              "      <th>Gender_Female</th>\n",
              "      <th>Gender_Male</th>\n",
              "      <th>Gender_Not_Specified</th>\n",
              "      <th>is_Married_Divorced</th>\n",
              "      <th>is_Married_Married</th>\n",
              "      <th>is_Married_Single</th>\n",
              "      <th>job_Business</th>\n",
              "      <th>job_Service</th>\n",
              "      <th>...</th>\n",
              "      <th>is_physically_ok_No</th>\n",
              "      <th>is_physically_ok_Yes</th>\n",
              "      <th>has_taken_car_loan_No</th>\n",
              "      <th>has_taken_car_loan_Yes</th>\n",
              "      <th>preferable_fuel_choice_Diesel</th>\n",
              "      <th>preferable_fuel_choice_EV</th>\n",
              "      <th>preferable_fuel_choice_Hybrid</th>\n",
              "      <th>preferable_fuel_choice_Petrol</th>\n",
              "      <th>City</th>\n",
              "      <th>vehicle_choice</th>\n",
              "    </tr>\n",
              "  </thead>\n",
              "  <tbody>\n",
              "    <tr>\n",
              "      <th>0</th>\n",
              "      <td>CusID_30000</td>\n",
              "      <td>32.0</td>\n",
              "      <td>1</td>\n",
              "      <td>0</td>\n",
              "      <td>0</td>\n",
              "      <td>0</td>\n",
              "      <td>1</td>\n",
              "      <td>0</td>\n",
              "      <td>0</td>\n",
              "      <td>1</td>\n",
              "      <td>...</td>\n",
              "      <td>0</td>\n",
              "      <td>1</td>\n",
              "      <td>1</td>\n",
              "      <td>0</td>\n",
              "      <td>1</td>\n",
              "      <td>0</td>\n",
              "      <td>0</td>\n",
              "      <td>0</td>\n",
              "      <td>4</td>\n",
              "      <td>13</td>\n",
              "    </tr>\n",
              "    <tr>\n",
              "      <th>1</th>\n",
              "      <td>CusID_30001</td>\n",
              "      <td>22.0</td>\n",
              "      <td>0</td>\n",
              "      <td>1</td>\n",
              "      <td>0</td>\n",
              "      <td>1</td>\n",
              "      <td>0</td>\n",
              "      <td>0</td>\n",
              "      <td>0</td>\n",
              "      <td>1</td>\n",
              "      <td>...</td>\n",
              "      <td>0</td>\n",
              "      <td>1</td>\n",
              "      <td>1</td>\n",
              "      <td>0</td>\n",
              "      <td>0</td>\n",
              "      <td>0</td>\n",
              "      <td>0</td>\n",
              "      <td>1</td>\n",
              "      <td>14</td>\n",
              "      <td>7</td>\n",
              "    </tr>\n",
              "    <tr>\n",
              "      <th>2</th>\n",
              "      <td>CusID_30002</td>\n",
              "      <td>46.0</td>\n",
              "      <td>1</td>\n",
              "      <td>0</td>\n",
              "      <td>0</td>\n",
              "      <td>0</td>\n",
              "      <td>1</td>\n",
              "      <td>0</td>\n",
              "      <td>0</td>\n",
              "      <td>1</td>\n",
              "      <td>...</td>\n",
              "      <td>0</td>\n",
              "      <td>1</td>\n",
              "      <td>1</td>\n",
              "      <td>0</td>\n",
              "      <td>0</td>\n",
              "      <td>0</td>\n",
              "      <td>0</td>\n",
              "      <td>1</td>\n",
              "      <td>0</td>\n",
              "      <td>13</td>\n",
              "    </tr>\n",
              "    <tr>\n",
              "      <th>3</th>\n",
              "      <td>CusID_30003</td>\n",
              "      <td>35.0</td>\n",
              "      <td>1</td>\n",
              "      <td>0</td>\n",
              "      <td>0</td>\n",
              "      <td>0</td>\n",
              "      <td>0</td>\n",
              "      <td>1</td>\n",
              "      <td>1</td>\n",
              "      <td>0</td>\n",
              "      <td>...</td>\n",
              "      <td>0</td>\n",
              "      <td>1</td>\n",
              "      <td>1</td>\n",
              "      <td>0</td>\n",
              "      <td>0</td>\n",
              "      <td>0</td>\n",
              "      <td>0</td>\n",
              "      <td>1</td>\n",
              "      <td>7</td>\n",
              "      <td>2</td>\n",
              "    </tr>\n",
              "    <tr>\n",
              "      <th>4</th>\n",
              "      <td>CusID_30004</td>\n",
              "      <td>48.0</td>\n",
              "      <td>0</td>\n",
              "      <td>1</td>\n",
              "      <td>0</td>\n",
              "      <td>0</td>\n",
              "      <td>1</td>\n",
              "      <td>0</td>\n",
              "      <td>0</td>\n",
              "      <td>1</td>\n",
              "      <td>...</td>\n",
              "      <td>0</td>\n",
              "      <td>1</td>\n",
              "      <td>0</td>\n",
              "      <td>1</td>\n",
              "      <td>0</td>\n",
              "      <td>0</td>\n",
              "      <td>1</td>\n",
              "      <td>0</td>\n",
              "      <td>17</td>\n",
              "      <td>0</td>\n",
              "    </tr>\n",
              "  </tbody>\n",
              "</table>\n",
              "<p>5 rows × 22 columns</p>\n",
              "</div>\n",
              "      <button class=\"colab-df-convert\" onclick=\"convertToInteractive('df-46721154-1096-4abb-915c-59008f8de509')\"\n",
              "              title=\"Convert this dataframe to an interactive table.\"\n",
              "              style=\"display:none;\">\n",
              "        \n",
              "  <svg xmlns=\"http://www.w3.org/2000/svg\" height=\"24px\"viewBox=\"0 0 24 24\"\n",
              "       width=\"24px\">\n",
              "    <path d=\"M0 0h24v24H0V0z\" fill=\"none\"/>\n",
              "    <path d=\"M18.56 5.44l.94 2.06.94-2.06 2.06-.94-2.06-.94-.94-2.06-.94 2.06-2.06.94zm-11 1L8.5 8.5l.94-2.06 2.06-.94-2.06-.94L8.5 2.5l-.94 2.06-2.06.94zm10 10l.94 2.06.94-2.06 2.06-.94-2.06-.94-.94-2.06-.94 2.06-2.06.94z\"/><path d=\"M17.41 7.96l-1.37-1.37c-.4-.4-.92-.59-1.43-.59-.52 0-1.04.2-1.43.59L10.3 9.45l-7.72 7.72c-.78.78-.78 2.05 0 2.83L4 21.41c.39.39.9.59 1.41.59.51 0 1.02-.2 1.41-.59l7.78-7.78 2.81-2.81c.8-.78.8-2.07 0-2.86zM5.41 20L4 18.59l7.72-7.72 1.47 1.35L5.41 20z\"/>\n",
              "  </svg>\n",
              "      </button>\n",
              "      \n",
              "  <style>\n",
              "    .colab-df-container {\n",
              "      display:flex;\n",
              "      flex-wrap:wrap;\n",
              "      gap: 12px;\n",
              "    }\n",
              "\n",
              "    .colab-df-convert {\n",
              "      background-color: #E8F0FE;\n",
              "      border: none;\n",
              "      border-radius: 50%;\n",
              "      cursor: pointer;\n",
              "      display: none;\n",
              "      fill: #1967D2;\n",
              "      height: 32px;\n",
              "      padding: 0 0 0 0;\n",
              "      width: 32px;\n",
              "    }\n",
              "\n",
              "    .colab-df-convert:hover {\n",
              "      background-color: #E2EBFA;\n",
              "      box-shadow: 0px 1px 2px rgba(60, 64, 67, 0.3), 0px 1px 3px 1px rgba(60, 64, 67, 0.15);\n",
              "      fill: #174EA6;\n",
              "    }\n",
              "\n",
              "    [theme=dark] .colab-df-convert {\n",
              "      background-color: #3B4455;\n",
              "      fill: #D2E3FC;\n",
              "    }\n",
              "\n",
              "    [theme=dark] .colab-df-convert:hover {\n",
              "      background-color: #434B5C;\n",
              "      box-shadow: 0px 1px 3px 1px rgba(0, 0, 0, 0.15);\n",
              "      filter: drop-shadow(0px 1px 2px rgba(0, 0, 0, 0.3));\n",
              "      fill: #FFFFFF;\n",
              "    }\n",
              "  </style>\n",
              "\n",
              "      <script>\n",
              "        const buttonEl =\n",
              "          document.querySelector('#df-46721154-1096-4abb-915c-59008f8de509 button.colab-df-convert');\n",
              "        buttonEl.style.display =\n",
              "          google.colab.kernel.accessAllowed ? 'block' : 'none';\n",
              "\n",
              "        async function convertToInteractive(key) {\n",
              "          const element = document.querySelector('#df-46721154-1096-4abb-915c-59008f8de509');\n",
              "          const dataTable =\n",
              "            await google.colab.kernel.invokeFunction('convertToInteractive',\n",
              "                                                     [key], {});\n",
              "          if (!dataTable) return;\n",
              "\n",
              "          const docLinkHtml = 'Like what you see? Visit the ' +\n",
              "            '<a target=\"_blank\" href=https://colab.research.google.com/notebooks/data_table.ipynb>data table notebook</a>'\n",
              "            + ' to learn more about interactive tables.';\n",
              "          element.innerHTML = '';\n",
              "          dataTable['output_type'] = 'display_data';\n",
              "          await google.colab.output.renderOutput(dataTable, element);\n",
              "          const docLink = document.createElement('div');\n",
              "          docLink.innerHTML = docLinkHtml;\n",
              "          element.appendChild(docLink);\n",
              "        }\n",
              "      </script>\n",
              "    </div>\n",
              "  </div>\n",
              "  "
            ]
          },
          "metadata": {},
          "execution_count": 151
        }
      ]
    },
    {
      "cell_type": "code",
      "source": [
        "test_data.shape"
      ],
      "metadata": {
        "colab": {
          "base_uri": "https://localhost:8080/"
        },
        "id": "s2iPHTCTQYx2",
        "outputId": "deaaf731-9f3e-475b-8b2b-32d246e587e0"
      },
      "execution_count": 152,
      "outputs": [
        {
          "output_type": "execute_result",
          "data": {
            "text/plain": [
              "(5000, 22)"
            ]
          },
          "metadata": {},
          "execution_count": 152
        }
      ]
    },
    {
      "cell_type": "code",
      "source": [
        "final_format = test_data[['CustomerID', 'vehicle_choice']]\n",
        "final_format"
      ],
      "metadata": {
        "colab": {
          "base_uri": "https://localhost:8080/",
          "height": 423
        },
        "id": "kJed6vGSQmL7",
        "outputId": "dbf35b8d-8540-4bb3-b2aa-382e185908d9"
      },
      "execution_count": 153,
      "outputs": [
        {
          "output_type": "execute_result",
          "data": {
            "text/plain": [
              "       CustomerID  vehicle_choice\n",
              "0     CusID_30000              13\n",
              "1     CusID_30001               7\n",
              "2     CusID_30002              13\n",
              "3     CusID_30003               2\n",
              "4     CusID_30004               0\n",
              "...           ...             ...\n",
              "4995  CusID_34995              15\n",
              "4996  CusID_34996              10\n",
              "4997  CusID_34997              13\n",
              "4998  CusID_34998               1\n",
              "4999  CusID_34999               1\n",
              "\n",
              "[5000 rows x 2 columns]"
            ],
            "text/html": [
              "\n",
              "  <div id=\"df-025d7956-4fd2-4cc3-af99-1e78845aa3d1\">\n",
              "    <div class=\"colab-df-container\">\n",
              "      <div>\n",
              "<style scoped>\n",
              "    .dataframe tbody tr th:only-of-type {\n",
              "        vertical-align: middle;\n",
              "    }\n",
              "\n",
              "    .dataframe tbody tr th {\n",
              "        vertical-align: top;\n",
              "    }\n",
              "\n",
              "    .dataframe thead th {\n",
              "        text-align: right;\n",
              "    }\n",
              "</style>\n",
              "<table border=\"1\" class=\"dataframe\">\n",
              "  <thead>\n",
              "    <tr style=\"text-align: right;\">\n",
              "      <th></th>\n",
              "      <th>CustomerID</th>\n",
              "      <th>vehicle_choice</th>\n",
              "    </tr>\n",
              "  </thead>\n",
              "  <tbody>\n",
              "    <tr>\n",
              "      <th>0</th>\n",
              "      <td>CusID_30000</td>\n",
              "      <td>13</td>\n",
              "    </tr>\n",
              "    <tr>\n",
              "      <th>1</th>\n",
              "      <td>CusID_30001</td>\n",
              "      <td>7</td>\n",
              "    </tr>\n",
              "    <tr>\n",
              "      <th>2</th>\n",
              "      <td>CusID_30002</td>\n",
              "      <td>13</td>\n",
              "    </tr>\n",
              "    <tr>\n",
              "      <th>3</th>\n",
              "      <td>CusID_30003</td>\n",
              "      <td>2</td>\n",
              "    </tr>\n",
              "    <tr>\n",
              "      <th>4</th>\n",
              "      <td>CusID_30004</td>\n",
              "      <td>0</td>\n",
              "    </tr>\n",
              "    <tr>\n",
              "      <th>...</th>\n",
              "      <td>...</td>\n",
              "      <td>...</td>\n",
              "    </tr>\n",
              "    <tr>\n",
              "      <th>4995</th>\n",
              "      <td>CusID_34995</td>\n",
              "      <td>15</td>\n",
              "    </tr>\n",
              "    <tr>\n",
              "      <th>4996</th>\n",
              "      <td>CusID_34996</td>\n",
              "      <td>10</td>\n",
              "    </tr>\n",
              "    <tr>\n",
              "      <th>4997</th>\n",
              "      <td>CusID_34997</td>\n",
              "      <td>13</td>\n",
              "    </tr>\n",
              "    <tr>\n",
              "      <th>4998</th>\n",
              "      <td>CusID_34998</td>\n",
              "      <td>1</td>\n",
              "    </tr>\n",
              "    <tr>\n",
              "      <th>4999</th>\n",
              "      <td>CusID_34999</td>\n",
              "      <td>1</td>\n",
              "    </tr>\n",
              "  </tbody>\n",
              "</table>\n",
              "<p>5000 rows × 2 columns</p>\n",
              "</div>\n",
              "      <button class=\"colab-df-convert\" onclick=\"convertToInteractive('df-025d7956-4fd2-4cc3-af99-1e78845aa3d1')\"\n",
              "              title=\"Convert this dataframe to an interactive table.\"\n",
              "              style=\"display:none;\">\n",
              "        \n",
              "  <svg xmlns=\"http://www.w3.org/2000/svg\" height=\"24px\"viewBox=\"0 0 24 24\"\n",
              "       width=\"24px\">\n",
              "    <path d=\"M0 0h24v24H0V0z\" fill=\"none\"/>\n",
              "    <path d=\"M18.56 5.44l.94 2.06.94-2.06 2.06-.94-2.06-.94-.94-2.06-.94 2.06-2.06.94zm-11 1L8.5 8.5l.94-2.06 2.06-.94-2.06-.94L8.5 2.5l-.94 2.06-2.06.94zm10 10l.94 2.06.94-2.06 2.06-.94-2.06-.94-.94-2.06-.94 2.06-2.06.94z\"/><path d=\"M17.41 7.96l-1.37-1.37c-.4-.4-.92-.59-1.43-.59-.52 0-1.04.2-1.43.59L10.3 9.45l-7.72 7.72c-.78.78-.78 2.05 0 2.83L4 21.41c.39.39.9.59 1.41.59.51 0 1.02-.2 1.41-.59l7.78-7.78 2.81-2.81c.8-.78.8-2.07 0-2.86zM5.41 20L4 18.59l7.72-7.72 1.47 1.35L5.41 20z\"/>\n",
              "  </svg>\n",
              "      </button>\n",
              "      \n",
              "  <style>\n",
              "    .colab-df-container {\n",
              "      display:flex;\n",
              "      flex-wrap:wrap;\n",
              "      gap: 12px;\n",
              "    }\n",
              "\n",
              "    .colab-df-convert {\n",
              "      background-color: #E8F0FE;\n",
              "      border: none;\n",
              "      border-radius: 50%;\n",
              "      cursor: pointer;\n",
              "      display: none;\n",
              "      fill: #1967D2;\n",
              "      height: 32px;\n",
              "      padding: 0 0 0 0;\n",
              "      width: 32px;\n",
              "    }\n",
              "\n",
              "    .colab-df-convert:hover {\n",
              "      background-color: #E2EBFA;\n",
              "      box-shadow: 0px 1px 2px rgba(60, 64, 67, 0.3), 0px 1px 3px 1px rgba(60, 64, 67, 0.15);\n",
              "      fill: #174EA6;\n",
              "    }\n",
              "\n",
              "    [theme=dark] .colab-df-convert {\n",
              "      background-color: #3B4455;\n",
              "      fill: #D2E3FC;\n",
              "    }\n",
              "\n",
              "    [theme=dark] .colab-df-convert:hover {\n",
              "      background-color: #434B5C;\n",
              "      box-shadow: 0px 1px 3px 1px rgba(0, 0, 0, 0.15);\n",
              "      filter: drop-shadow(0px 1px 2px rgba(0, 0, 0, 0.3));\n",
              "      fill: #FFFFFF;\n",
              "    }\n",
              "  </style>\n",
              "\n",
              "      <script>\n",
              "        const buttonEl =\n",
              "          document.querySelector('#df-025d7956-4fd2-4cc3-af99-1e78845aa3d1 button.colab-df-convert');\n",
              "        buttonEl.style.display =\n",
              "          google.colab.kernel.accessAllowed ? 'block' : 'none';\n",
              "\n",
              "        async function convertToInteractive(key) {\n",
              "          const element = document.querySelector('#df-025d7956-4fd2-4cc3-af99-1e78845aa3d1');\n",
              "          const dataTable =\n",
              "            await google.colab.kernel.invokeFunction('convertToInteractive',\n",
              "                                                     [key], {});\n",
              "          if (!dataTable) return;\n",
              "\n",
              "          const docLinkHtml = 'Like what you see? Visit the ' +\n",
              "            '<a target=\"_blank\" href=https://colab.research.google.com/notebooks/data_table.ipynb>data table notebook</a>'\n",
              "            + ' to learn more about interactive tables.';\n",
              "          element.innerHTML = '';\n",
              "          dataTable['output_type'] = 'display_data';\n",
              "          await google.colab.output.renderOutput(dataTable, element);\n",
              "          const docLink = document.createElement('div');\n",
              "          docLink.innerHTML = docLinkHtml;\n",
              "          element.appendChild(docLink);\n",
              "        }\n",
              "      </script>\n",
              "    </div>\n",
              "  </div>\n",
              "  "
            ]
          },
          "metadata": {},
          "execution_count": 153
        }
      ]
    },
    {
      "cell_type": "markdown",
      "source": [
        "**Replacing the encoded 'vehicle_choice' into the original entries using the mapping printed during label encoding of 'vehicle_choice'**"
      ],
      "metadata": {
        "id": "78rY6FJAUntc"
      }
    },
    {
      "cell_type": "code",
      "source": [
        "{'Compact Sedan': 0, 'Compact Utility Vehicle': 1, 'Convertible': 2, 'Coupe': 3, 'Crossover': 4, 'Hatchback': 5, 'Luxury Coupe': 6, 'Luxury Sedan': 7, 'Minivan': 8, 'Pickup-Truck': 9, 'Sedan': 10, 'Sports Coupe': 11, 'Sports Sedan': 12, 'Sports Utility Vehicle': 13, 'Sportscar': 14, 'Station Wagon': 15, 'Utility Vehicle': 16, 'Utility vehicle': 17}"
      ],
      "metadata": {
        "id": "efsPdyac5_fr",
        "colab": {
          "base_uri": "https://localhost:8080/"
        },
        "outputId": "49dde7e0-7cdb-40c7-e99e-dadd8cc54a34"
      },
      "execution_count": 154,
      "outputs": [
        {
          "output_type": "execute_result",
          "data": {
            "text/plain": [
              "{'Compact Sedan': 0,\n",
              " 'Compact Utility Vehicle': 1,\n",
              " 'Convertible': 2,\n",
              " 'Coupe': 3,\n",
              " 'Crossover': 4,\n",
              " 'Hatchback': 5,\n",
              " 'Luxury Coupe': 6,\n",
              " 'Luxury Sedan': 7,\n",
              " 'Minivan': 8,\n",
              " 'Pickup-Truck': 9,\n",
              " 'Sedan': 10,\n",
              " 'Sports Coupe': 11,\n",
              " 'Sports Sedan': 12,\n",
              " 'Sports Utility Vehicle': 13,\n",
              " 'Sportscar': 14,\n",
              " 'Station Wagon': 15,\n",
              " 'Utility Vehicle': 16,\n",
              " 'Utility vehicle': 17}"
            ]
          },
          "metadata": {},
          "execution_count": 154
        }
      ]
    },
    {
      "cell_type": "code",
      "source": [
        "final_format['vehicle_choice'] = final_format['vehicle_choice'].replace({0,1,2,3,4,5,6,7,8,9,10,11,12,13,14,15,16,17},{'Compact Sedan', 'Compact Utility Vehicle', 'Convertible', 'Coupe', 'Crossover', 'Hatchback','Luxury Coupe','Luxury Sedan','Minivan','Pickup-Truck', 'Sedan','Sports Coupe','Sports Sedan','Sports Utility Vehicle','Sportscar','Station Wagon','Utility Vehicle', 'Utility vehicle' })\n",
        "final_format"
      ],
      "metadata": {
        "colab": {
          "base_uri": "https://localhost:8080/",
          "height": 528
        },
        "id": "Zj6YGLq8RsxC",
        "outputId": "e4f7ef42-9f08-46e4-f859-013931f344f9"
      },
      "execution_count": 155,
      "outputs": [
        {
          "output_type": "stream",
          "name": "stderr",
          "text": [
            "/usr/local/lib/python3.7/dist-packages/ipykernel_launcher.py:1: SettingWithCopyWarning: \n",
            "A value is trying to be set on a copy of a slice from a DataFrame.\n",
            "Try using .loc[row_indexer,col_indexer] = value instead\n",
            "\n",
            "See the caveats in the documentation: https://pandas.pydata.org/pandas-docs/stable/user_guide/indexing.html#returning-a-view-versus-a-copy\n",
            "  \"\"\"Entry point for launching an IPython kernel.\n"
          ]
        },
        {
          "output_type": "execute_result",
          "data": {
            "text/plain": [
              "       CustomerID           vehicle_choice\n",
              "0     CusID_30000             Luxury Sedan\n",
              "1     CusID_30001             Sports Sedan\n",
              "2     CusID_30002             Luxury Sedan\n",
              "3     CusID_30003  Compact Utility Vehicle\n",
              "4     CusID_30004                Crossover\n",
              "...           ...                      ...\n",
              "4995  CusID_34995          Utility vehicle\n",
              "4996  CusID_34996             Pickup-Truck\n",
              "4997  CusID_34997             Luxury Sedan\n",
              "4998  CusID_34998             Sports Coupe\n",
              "4999  CusID_34999             Sports Coupe\n",
              "\n",
              "[5000 rows x 2 columns]"
            ],
            "text/html": [
              "\n",
              "  <div id=\"df-f44e18a4-29c4-4dfa-8dab-d389feddb7ff\">\n",
              "    <div class=\"colab-df-container\">\n",
              "      <div>\n",
              "<style scoped>\n",
              "    .dataframe tbody tr th:only-of-type {\n",
              "        vertical-align: middle;\n",
              "    }\n",
              "\n",
              "    .dataframe tbody tr th {\n",
              "        vertical-align: top;\n",
              "    }\n",
              "\n",
              "    .dataframe thead th {\n",
              "        text-align: right;\n",
              "    }\n",
              "</style>\n",
              "<table border=\"1\" class=\"dataframe\">\n",
              "  <thead>\n",
              "    <tr style=\"text-align: right;\">\n",
              "      <th></th>\n",
              "      <th>CustomerID</th>\n",
              "      <th>vehicle_choice</th>\n",
              "    </tr>\n",
              "  </thead>\n",
              "  <tbody>\n",
              "    <tr>\n",
              "      <th>0</th>\n",
              "      <td>CusID_30000</td>\n",
              "      <td>Luxury Sedan</td>\n",
              "    </tr>\n",
              "    <tr>\n",
              "      <th>1</th>\n",
              "      <td>CusID_30001</td>\n",
              "      <td>Sports Sedan</td>\n",
              "    </tr>\n",
              "    <tr>\n",
              "      <th>2</th>\n",
              "      <td>CusID_30002</td>\n",
              "      <td>Luxury Sedan</td>\n",
              "    </tr>\n",
              "    <tr>\n",
              "      <th>3</th>\n",
              "      <td>CusID_30003</td>\n",
              "      <td>Compact Utility Vehicle</td>\n",
              "    </tr>\n",
              "    <tr>\n",
              "      <th>4</th>\n",
              "      <td>CusID_30004</td>\n",
              "      <td>Crossover</td>\n",
              "    </tr>\n",
              "    <tr>\n",
              "      <th>...</th>\n",
              "      <td>...</td>\n",
              "      <td>...</td>\n",
              "    </tr>\n",
              "    <tr>\n",
              "      <th>4995</th>\n",
              "      <td>CusID_34995</td>\n",
              "      <td>Utility vehicle</td>\n",
              "    </tr>\n",
              "    <tr>\n",
              "      <th>4996</th>\n",
              "      <td>CusID_34996</td>\n",
              "      <td>Pickup-Truck</td>\n",
              "    </tr>\n",
              "    <tr>\n",
              "      <th>4997</th>\n",
              "      <td>CusID_34997</td>\n",
              "      <td>Luxury Sedan</td>\n",
              "    </tr>\n",
              "    <tr>\n",
              "      <th>4998</th>\n",
              "      <td>CusID_34998</td>\n",
              "      <td>Sports Coupe</td>\n",
              "    </tr>\n",
              "    <tr>\n",
              "      <th>4999</th>\n",
              "      <td>CusID_34999</td>\n",
              "      <td>Sports Coupe</td>\n",
              "    </tr>\n",
              "  </tbody>\n",
              "</table>\n",
              "<p>5000 rows × 2 columns</p>\n",
              "</div>\n",
              "      <button class=\"colab-df-convert\" onclick=\"convertToInteractive('df-f44e18a4-29c4-4dfa-8dab-d389feddb7ff')\"\n",
              "              title=\"Convert this dataframe to an interactive table.\"\n",
              "              style=\"display:none;\">\n",
              "        \n",
              "  <svg xmlns=\"http://www.w3.org/2000/svg\" height=\"24px\"viewBox=\"0 0 24 24\"\n",
              "       width=\"24px\">\n",
              "    <path d=\"M0 0h24v24H0V0z\" fill=\"none\"/>\n",
              "    <path d=\"M18.56 5.44l.94 2.06.94-2.06 2.06-.94-2.06-.94-.94-2.06-.94 2.06-2.06.94zm-11 1L8.5 8.5l.94-2.06 2.06-.94-2.06-.94L8.5 2.5l-.94 2.06-2.06.94zm10 10l.94 2.06.94-2.06 2.06-.94-2.06-.94-.94-2.06-.94 2.06-2.06.94z\"/><path d=\"M17.41 7.96l-1.37-1.37c-.4-.4-.92-.59-1.43-.59-.52 0-1.04.2-1.43.59L10.3 9.45l-7.72 7.72c-.78.78-.78 2.05 0 2.83L4 21.41c.39.39.9.59 1.41.59.51 0 1.02-.2 1.41-.59l7.78-7.78 2.81-2.81c.8-.78.8-2.07 0-2.86zM5.41 20L4 18.59l7.72-7.72 1.47 1.35L5.41 20z\"/>\n",
              "  </svg>\n",
              "      </button>\n",
              "      \n",
              "  <style>\n",
              "    .colab-df-container {\n",
              "      display:flex;\n",
              "      flex-wrap:wrap;\n",
              "      gap: 12px;\n",
              "    }\n",
              "\n",
              "    .colab-df-convert {\n",
              "      background-color: #E8F0FE;\n",
              "      border: none;\n",
              "      border-radius: 50%;\n",
              "      cursor: pointer;\n",
              "      display: none;\n",
              "      fill: #1967D2;\n",
              "      height: 32px;\n",
              "      padding: 0 0 0 0;\n",
              "      width: 32px;\n",
              "    }\n",
              "\n",
              "    .colab-df-convert:hover {\n",
              "      background-color: #E2EBFA;\n",
              "      box-shadow: 0px 1px 2px rgba(60, 64, 67, 0.3), 0px 1px 3px 1px rgba(60, 64, 67, 0.15);\n",
              "      fill: #174EA6;\n",
              "    }\n",
              "\n",
              "    [theme=dark] .colab-df-convert {\n",
              "      background-color: #3B4455;\n",
              "      fill: #D2E3FC;\n",
              "    }\n",
              "\n",
              "    [theme=dark] .colab-df-convert:hover {\n",
              "      background-color: #434B5C;\n",
              "      box-shadow: 0px 1px 3px 1px rgba(0, 0, 0, 0.15);\n",
              "      filter: drop-shadow(0px 1px 2px rgba(0, 0, 0, 0.3));\n",
              "      fill: #FFFFFF;\n",
              "    }\n",
              "  </style>\n",
              "\n",
              "      <script>\n",
              "        const buttonEl =\n",
              "          document.querySelector('#df-f44e18a4-29c4-4dfa-8dab-d389feddb7ff button.colab-df-convert');\n",
              "        buttonEl.style.display =\n",
              "          google.colab.kernel.accessAllowed ? 'block' : 'none';\n",
              "\n",
              "        async function convertToInteractive(key) {\n",
              "          const element = document.querySelector('#df-f44e18a4-29c4-4dfa-8dab-d389feddb7ff');\n",
              "          const dataTable =\n",
              "            await google.colab.kernel.invokeFunction('convertToInteractive',\n",
              "                                                     [key], {});\n",
              "          if (!dataTable) return;\n",
              "\n",
              "          const docLinkHtml = 'Like what you see? Visit the ' +\n",
              "            '<a target=\"_blank\" href=https://colab.research.google.com/notebooks/data_table.ipynb>data table notebook</a>'\n",
              "            + ' to learn more about interactive tables.';\n",
              "          element.innerHTML = '';\n",
              "          dataTable['output_type'] = 'display_data';\n",
              "          await google.colab.output.renderOutput(dataTable, element);\n",
              "          const docLink = document.createElement('div');\n",
              "          docLink.innerHTML = docLinkHtml;\n",
              "          element.appendChild(docLink);\n",
              "        }\n",
              "      </script>\n",
              "    </div>\n",
              "  </div>\n",
              "  "
            ]
          },
          "metadata": {},
          "execution_count": 155
        }
      ]
    },
    {
      "cell_type": "code",
      "source": [
        "final_csv = final_format.to_csv('submission.csv')"
      ],
      "metadata": {
        "id": "9UJKPw6f6ud7"
      },
      "execution_count": 156,
      "outputs": []
    }
  ]
}